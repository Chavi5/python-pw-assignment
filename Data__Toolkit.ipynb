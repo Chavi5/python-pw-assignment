{
  "nbformat": 4,
  "nbformat_minor": 0,
  "metadata": {
    "colab": {
      "provenance": []
    },
    "kernelspec": {
      "name": "python3",
      "display_name": "Python 3"
    },
    "language_info": {
      "name": "python"
    }
  },
  "cells": [
    {
      "cell_type": "markdown",
      "source": [
        "# **THEORY QUESTIONS**"
      ],
      "metadata": {
        "id": "m0R3xm9ertXX"
      }
    },
    {
      "cell_type": "markdown",
      "source": [
        "## **1. What is NumPy, and why is it widely used in Python?**\n",
        "\n"
      ],
      "metadata": {
        "id": "Ie4dVVOcrtaS"
      }
    },
    {
      "cell_type": "markdown",
      "source": [
        "**Answer**"
      ],
      "metadata": {
        "id": "AqNLfHwartdA"
      }
    },
    {
      "cell_type": "markdown",
      "source": [
        "NumPy (Numerical Python) is a fundamental library in Python for numerical computing. Think of it as a super-efficient way to handle large collections of numbers (arrays) in Python. It's widely used because:\n",
        "\n",
        "*   **Speed**: It's incredibly fast, much faster than standard Python lists for numerical operations, thanks to its underlying C implementations.\n",
        "*   **Efficiency:** It uses less memory to store data.\n",
        "*   **Powerful Operations:** It provides a vast array of mathematical functions to perform operations on these arrays, from basic arithmetic to advanced linear algebra.\n",
        "*   **Foundation:** Many other popular Python data science libraries (like Pandas and SciPy) are built on top of NumPy, making it an essential building block\n",
        "\n",
        "\n"
      ],
      "metadata": {
        "id": "OWSUl3cmrtfk"
      }
    },
    {
      "cell_type": "markdown",
      "source": [
        "## **2. How does broadcasting work in NumPy?**"
      ],
      "metadata": {
        "id": "IfxEHmY9rtiO"
      }
    },
    {
      "cell_type": "markdown",
      "source": [
        "\n",
        "**Answer:**"
      ],
      "metadata": {
        "id": "YKyhiAKxrtlB"
      }
    },
    {
      "cell_type": "markdown",
      "source": [
        "Broadcasting in NumPy is a set of rules that allow arrays of different shapes to be used together in arithmetic operations without explicitly copying data.\n",
        "\n",
        "When performing operations (like addition, subtraction, multiplication) on arrays with different shapes, NumPy automatically \"broadcasts\" the smaller array across the larger one so they have compatible shapes.\n",
        "\n",
        "**Broadcasting Rules:**\n",
        "\n",
        "*   If arrays have different ranks (number of dimensions), the shape of the smaller array is padded with 1s on the left.\n",
        "\n",
        "*   Arrays are compatible for broadcasting if, for each dimension, the sizes are either equal or one of them is 1.\n",
        "*  If the arrays are compatible, NumPy stretches the dimensions with size 1 to match the other array.L\n",
        "\n",
        "**Example:-**\n",
        "\n",
        "\n",
        "\n",
        "\n",
        "\n",
        "\n",
        "\n"
      ],
      "metadata": {
        "id": "rk-cqlZMrtnO"
      }
    },
    {
      "cell_type": "code",
      "source": [
        "import numpy as np\n",
        "\n",
        "a = np.array([[1], [2], [3]])  # Shape: (3,1)\n",
        "b = np.array([10, 20, 30])     # Shape: (3,)\n",
        "\n",
        "result = a + b  # Shape becomes (3,3)"
      ],
      "metadata": {
        "id": "4XRioXBz3jU8"
      },
      "execution_count": 1,
      "outputs": []
    },
    {
      "cell_type": "markdown",
      "source": [
        "## **3. What is a Pandas DataFrame?**"
      ],
      "metadata": {
        "id": "GvdD3I3L3vrz"
      }
    },
    {
      "cell_type": "markdown",
      "source": [
        "**Answer:**"
      ],
      "metadata": {
        "id": "Q2TM_xmc3vuZ"
      }
    },
    {
      "cell_type": "markdown",
      "source": [
        "A Pandas DataFrame is a two-dimensional, tabular data structure in the Pandas library (used for data manipulation and analysis in Python). It is similar to a spreadsheet, SQL table, or an Excel table.\n",
        "\n",
        "**Key Features of a DataFrame:**\n",
        "1. It consists of rows and columns, each with labels.\n",
        "\n",
        "2. Each column can have a different data type (e.g., integer, float, string).\n",
        "\n",
        "3. It is built on top of NumPy, so it supports fast and efficient operations.\n",
        "\n",
        "4. It provides powerful tools for data selection, filtering, aggregation, and transformation."
      ],
      "metadata": {
        "id": "zuFDaMJZ3vx2"
      }
    },
    {
      "cell_type": "code",
      "source": [
        "import pandas as pd\n",
        "\n",
        "data = {\n",
        "    'Name': ['Alice', 'Bob', 'Charlie'],\n",
        "    'Age': [25, 30, 35],\n",
        "    'City': ['New York', 'London', 'Paris']\n",
        "}\n",
        "\n",
        "df = pd.DataFrame(data)\n",
        "print(df)"
      ],
      "metadata": {
        "colab": {
          "base_uri": "https://localhost:8080/"
        },
        "id": "kHafB_3Y4Bl3",
        "outputId": "f1a31bbc-3e7d-42ba-f574-90ab1a41834f"
      },
      "execution_count": 2,
      "outputs": [
        {
          "output_type": "stream",
          "name": "stdout",
          "text": [
            "      Name  Age      City\n",
            "0    Alice   25  New York\n",
            "1      Bob   30    London\n",
            "2  Charlie   35     Paris\n"
          ]
        }
      ]
    },
    {
      "cell_type": "markdown",
      "source": [
        "A Pandas DataFrame is a flexible and powerful way to store and analyze structured data in Python."
      ],
      "metadata": {
        "id": "u3ZnEL7O4KeB"
      }
    },
    {
      "cell_type": "markdown",
      "source": [
        "## **4. Explain the use of the groupby() method in Pandas.**"
      ],
      "metadata": {
        "id": "4waYEgJ44MKk"
      }
    },
    {
      "cell_type": "markdown",
      "source": [
        "\n",
        "**Answer:**"
      ],
      "metadata": {
        "id": "q-Bk_S-84MNa"
      }
    },
    {
      "cell_type": "markdown",
      "source": [
        "The `groupby()` method in Pandas is used to group data based on one or more columns and then perform aggregate operations on each group (like sum, mean, count, etc.).\n",
        "\n",
        "It is similar to SQL's `GROUP BY` clause and is very useful for summarizing and analyzing data.\n",
        "\n",
        "**How groupby() Works:**\n",
        "\n",
        " The process generally involves three steps:\n",
        "\n",
        "1. Split the data into groups based on some criteria.\n",
        "\n",
        "2. Apply a function to each group (e.g., sum, mean).\n",
        "\n",
        "3. Combine the results into a new DataFrame or Series.\n",
        "\n",
        "**Example**"
      ],
      "metadata": {
        "id": "7XjLsTiY4MQR"
      }
    },
    {
      "cell_type": "code",
      "source": [
        "import pandas as pd\n",
        "\n",
        "data = {\n",
        "    'Department': ['Sales', 'Sales', 'HR', 'HR', 'IT'],\n",
        "    'Employee': ['Alice', 'Bob', 'Charlie', 'David', 'Eve'],\n",
        "    'Salary': [50000, 60000, 45000, 47000, 70000]\n",
        "}\n",
        "\n",
        "df = pd.DataFrame(data)\n",
        "\n",
        "# Group by Department and calculate average salary\n",
        "grouped = df.groupby('Department')['Salary'].mean()\n",
        "print(grouped)\n"
      ],
      "metadata": {
        "colab": {
          "base_uri": "https://localhost:8080/"
        },
        "id": "UDysMCyz438K",
        "outputId": "4de2e779-799f-4ab3-cc48-13da982209a5"
      },
      "execution_count": 3,
      "outputs": [
        {
          "output_type": "stream",
          "name": "stdout",
          "text": [
            "Department\n",
            "HR       46000.0\n",
            "IT       70000.0\n",
            "Sales    55000.0\n",
            "Name: Salary, dtype: float64\n"
          ]
        }
      ]
    },
    {
      "cell_type": "markdown",
      "source": [
        "## **5. Why is Seaborn preferred for statistical visualization?**"
      ],
      "metadata": {
        "id": "D9q8Iko74MS4"
      }
    },
    {
      "cell_type": "markdown",
      "source": [
        "**Answer:-**"
      ],
      "metadata": {
        "id": "5-Q5IwmD4MVg"
      }
    },
    {
      "cell_type": "markdown",
      "source": [
        "Answer:\n",
        "\n",
        "Seaborn is a Python data visualization library built on top of Matplotlib. It's preferred for statistical visualization because:\n",
        "\n",
        "*   **High-Level Interface:** It offers a higher-level interface for drawing attractive and informative statistical graphics. You can create complex plots with fewer lines of code.\n",
        "*   **Aesthetics:** It has beautiful default styles and color palettes, making your plots look professional without much effort.\n",
        "*   **Statistical Focus:** It's specifically designed for statistical plotting, providing functions for things like regression plots, distribution plots, heatmaps, and more, which are common in statistical analysis.\n",
        "*   **Integration with Pandas:** It works seamlessly with Pandas DataFrames, allowing you to easily plot data directly from your DataFrames.\n",
        "\n",
        "\n",
        "\n",
        "\n",
        "\n",
        "\n",
        "\n",
        "\n"
      ],
      "metadata": {
        "id": "_GdVGYVw4MYT"
      }
    },
    {
      "cell_type": "markdown",
      "source": [
        "## **6. What are the differences between NumPy arrays and Python lists?**"
      ],
      "metadata": {
        "id": "6zUL72r-4Mai"
      }
    },
    {
      "cell_type": "markdown",
      "source": [
        "**Answer:-**"
      ],
      "metadata": {
        "id": "R6SWgMmk4MdO"
      }
    },
    {
      "cell_type": "markdown",
      "source": [
        "**Data Type:** NumPy arrays can only store elements of the same data type (e.g., all integers or all floats), which makes them very efficient. Python lists can store elements of different data types (e.g., an integer, a string, and a float in the same list).\n",
        "\n",
        "**Performance:** NumPy arrays are significantly faster for numerical operations, especially on large datasets, due to their fixed type and optimized C implementations. Python lists are slower for numerical computations.\n",
        "\n",
        "**Memory Usage:** NumPy arrays are more memory-efficient.\n",
        "\n",
        "**Functionality:** NumPy provides a vast collection of mathematical functions that can be applied directly to entire arrays. Python lists have more general-purpose methods.\n",
        "\n",
        "**Use Case:** NumPy arrays are ideal for numerical computing and scientific applications. Python lists are more general-purpose for storing collections of items."
      ],
      "metadata": {
        "id": "6ghCW7Yq4Mgw"
      }
    },
    {
      "cell_type": "markdown",
      "source": [
        "## **7. What is a heatmap, and when should it be used?**"
      ],
      "metadata": {
        "id": "UyPV8c7g5wSb"
      }
    },
    {
      "cell_type": "markdown",
      "source": [
        "**Answer:**"
      ],
      "metadata": {
        "id": "hXPBeeah5wVQ"
      }
    },
    {
      "cell_type": "markdown",
      "source": [
        "A heatmap is a graphical representation of data where individual values in a matrix are represented as colors. It's like a colored grid where the intensity of the color indicates the magnitude of the value. You should use a heatmap when:\n",
        "\n",
        "*   You want to visualize the relationships or correlations between two variables (e.g., a correlation matrix).\n",
        "*   You have a large matrix of numbers and want to quickly spot patterns, clusters, or outliers.\n",
        "*   You want to show the intensity or density of data points in a two-dimensional space.\n",
        "\n",
        "\n",
        "\n",
        "\n",
        "\n",
        "\n",
        "\n",
        "\n"
      ],
      "metadata": {
        "id": "pgltIYIa5wXy"
      }
    },
    {
      "cell_type": "markdown",
      "source": [
        "## **8. What does the term \"vectorized operation\" mean in NumPy?**"
      ],
      "metadata": {
        "id": "z16Jquea5wbO"
      }
    },
    {
      "cell_type": "markdown",
      "source": [
        "In NumPy, a vectorized operation refers to performing operations on entire arrays (or vectors) element-wise, without using explicit Python loops.\n",
        "\n",
        "This approach is made possible because NumPy uses optimized C code under the hood, making these operations much faster and more efficient than looping through elements manually.\n"
      ],
      "metadata": {
        "id": "tHIlRO106X-d"
      }
    },
    {
      "cell_type": "markdown",
      "source": [
        "**Example** (Vectorized vs. Loop):\n",
        "\n",
        "Without Vectorization (using a loop):"
      ],
      "metadata": {
        "id": "BrFeVs1H6YBG"
      }
    },
    {
      "cell_type": "code",
      "source": [
        "import numpy as np\n",
        "\n",
        "a = np.array([1, 2, 3, 4])\n",
        "b = np.array([10, 20, 30, 40])\n",
        "result = []\n",
        "\n",
        "for i in range(len(a)):\n",
        "    result.append(a[i] + b[i])"
      ],
      "metadata": {
        "id": "XJLnfCQ66gPq"
      },
      "execution_count": 4,
      "outputs": []
    },
    {
      "cell_type": "markdown",
      "source": [
        "With Vectorized Operation:"
      ],
      "metadata": {
        "id": "8i_l4yBq6YDw"
      }
    },
    {
      "cell_type": "code",
      "source": [
        "result = a + b"
      ],
      "metadata": {
        "id": "Ft7vIqYx6kej"
      },
      "execution_count": 5,
      "outputs": []
    },
    {
      "cell_type": "markdown",
      "source": [
        "Both methods produce the same result: [11, 22, 33, 44], but the vectorized version is cleaner, faster, and more efficient."
      ],
      "metadata": {
        "id": "cCpqyxAM6YIt"
      }
    },
    {
      "cell_type": "markdown",
      "source": [
        "## **9. How does Matplotlib differ from Plotly?**\n",
        "\n"
      ],
      "metadata": {
        "id": "m2IcXitu6YMP"
      }
    },
    {
      "cell_type": "markdown",
      "source": [
        "**Answer:-**"
      ],
      "metadata": {
        "id": "aGohfWje630M"
      }
    },
    {
      "cell_type": "markdown",
      "source": [
        "Both Matplotlib and Plotly are Python libraries for creating visualizations, but they differ in their approach and capabilities:\n",
        "\n",
        "* **Matplotlib:**\n",
        "\n",
        "    * **Foundation:** It's the foundational plotting library in Python. Many other libraries are built on top of it.\n",
        "\n",
        "    * **Control:** Offers fine-grained control over every aspect of a plot.\n",
        "\n",
        "    * **Static Plots:** Primarily generates static, publication-quality plots (PNG, PDF, etc.). While it has some interactive features, they are not its primary strength.\n",
        "\n",
        "    * **Code-Intensive:** Can sometimes require more lines of code for complex plots.\n",
        "\n",
        "* **Plotly:**\n",
        "\n",
        "    * **Interactivity:** Designed for creating interactive, web-based visualizations. You can zoom, pan, hover, and animate plots directly in a web browser or Jupyter notebook.\n",
        "\n",
        "    * **Online/Offline:** Can work online (publishing to Plotly's platform) or offline.\n",
        "\n",
        "    * **Declarative:** Often uses a more declarative approach to plotting, defining what you want rather than how to draw every pixel.\n",
        "\n",
        "    * **Dashboarding:** Well-suited for building interactive dashboards and web applications"
      ],
      "metadata": {
        "id": "EAHQdcA1632-"
      }
    },
    {
      "cell_type": "markdown",
      "source": [
        "## **10. What is the significance of hierarchical indexing in Pandas?**"
      ],
      "metadata": {
        "id": "wA0WYPm0635m"
      }
    },
    {
      "cell_type": "markdown",
      "source": [
        "**Answer:-**"
      ],
      "metadata": {
        "id": "wW9PNs3C638X"
      }
    },
    {
      "cell_type": "markdown",
      "source": [
        "Hierarchical indexing (also known as MultiIndex) in Pandas allows you to have multiple levels of indexes on an axis (rows or columns). Its significance is:\n",
        "\n",
        "* **Handling Complex Data:** It enables you to represent and analyze data with higher dimensionality in a two-dimensional DataFrame, without having to reshape your data.\n",
        "\n",
        "* **Natural Grouping:** It provides a natural way to group data based on multiple categories.\n",
        "\n",
        "* **Efficient Subsetting:** Makes it easier and more intuitive to select or slice subsets of data based on various levels of the index.\n",
        "\n",
        "* **Reshaping Operations:** Crucial for operations like unstack() and stack() which pivot data between wide and long formats."
      ],
      "metadata": {
        "id": "XeEi1ty663-y"
      }
    },
    {
      "cell_type": "markdown",
      "source": [
        "## **11.What is the role of Seaborn's pairplot() function?**"
      ],
      "metadata": {
        "id": "J2YgjY0c64CM"
      }
    },
    {
      "cell_type": "markdown",
      "source": [
        "**Answer:-**\n"
      ],
      "metadata": {
        "id": "WwiGiGqB8Gtq"
      }
    },
    {
      "cell_type": "markdown",
      "source": [
        "Seaborn's pairplot() function is used to create a grid of pairwise relationships in a dataset. It's a very quick way to get an overview of your data and the relationships between its numerical variables.\n",
        "\n",
        "* **Diagonal:** On the diagonal, it typically shows the distribution of each variable (e.g., a histogram or KDE plot).\n",
        "\n",
        "* **Off-Diagonal:** On the off-diagonal, it shows scatter plots for each pair of variables, allowing you to see their correlation and patterns.\n",
        "\n",
        "* **Categorical Variables:** You can also color-code points based on a categorical variable, which helps in identifying differences across groups."
      ],
      "metadata": {
        "id": "8eV6Le888Gwc"
      }
    },
    {
      "cell_type": "markdown",
      "source": [
        "## **12. What is the purpose of the describe() function in Pandas?**"
      ],
      "metadata": {
        "id": "RLC6nOv58GzT"
      }
    },
    {
      "cell_type": "markdown",
      "source": [
        "**Answer:-**"
      ],
      "metadata": {
        "id": "-ony349R8G1u"
      }
    },
    {
      "cell_type": "markdown",
      "source": [
        "The `describe()` function in Pandas is used to generate descriptive statistics of your DataFrame or Series. It provides a quick summary of the central tendency, dispersion, and shape of the distribution of a dataset. For numerical data, it returns:\n",
        "\n",
        "* `count:` Number of non-null observations\n",
        "\n",
        "* `mean:` Average\n",
        "\n",
        "* `std:` Standard deviation\n",
        "\n",
        "* `min:` Minimum value\n",
        "\n",
        "* `25%:` 25th percentile (Q1)\n",
        "\n",
        "* `50%:` 50th percentile (median)\n",
        "\n",
        "* `75%:` 75th percentile (Q3)\n",
        "\n",
        "* `max:` Maximum value For object (string) or categorical data, it returns count, unique, top, and freq. It's your first stop for understanding the basic characteristics of your data."
      ],
      "metadata": {
        "id": "GnC8F8kb8G4W"
      }
    },
    {
      "cell_type": "markdown",
      "source": [
        "## **13. Why is handling missing data important in Pandas?**"
      ],
      "metadata": {
        "id": "G3QvnY3w8G6r"
      }
    },
    {
      "cell_type": "markdown",
      "source": [
        "**Answer**"
      ],
      "metadata": {
        "id": "8H1IIj5u8G-L"
      }
    },
    {
      "cell_type": "markdown",
      "source": [
        "Handling missing data is crucial in Pandas (and data analysis in general) because:\n",
        "\n",
        "* **Bias:** Missing data can introduce bias into your analysis, leading to inaccurate conclusions.\n",
        "\n",
        "* **Model Performance:** Many machine learning algorithms cannot handle missing values directly and will either throw errors or produce poor results.\n",
        "\n",
        "* **Integrity of Results:** If not addressed, missing data can compromise the integrity and reliability of your statistical calculations and visualizations.\n",
        "\n",
        "* **Data Quality:** It's a key aspect of data cleaning and ensuring the overall quality of your dataset."
      ],
      "metadata": {
        "id": "l4z_OIuh876K"
      }
    },
    {
      "cell_type": "markdown",
      "source": [
        "## **14. What are the benefits of using Plotly for data visualization?**"
      ],
      "metadata": {
        "id": "ocD4YlWc8784"
      }
    },
    {
      "cell_type": "markdown",
      "source": [
        "**Answer:**"
      ],
      "metadata": {
        "id": "lZG2WdM587_u"
      }
    },
    {
      "cell_type": "markdown",
      "source": [
        "The main benefits of using Plotly for data visualization include:\n",
        "\n",
        "* **Interactivity:** Creates interactive plots that allow users to zoom, pan, hover for details, and select data points directly in the browser. This is a huge advantage for exploration and presentations.\n",
        "\n",
        "* **Web-Based:** Generates HTML output, making plots easily shareable and embeddable in web applications, dashboards, and reports without needing specific software.\n",
        "\n",
        "* **Rich Plot Types:** Supports a wide range of plot types, including 3D plots, statistical charts, financial charts, and more.\n",
        "\n",
        "* **Python Integration:** Excellent integration with Python (and R, JavaScript, etc.), allowing for programmatic generation of complex visualizations.\n",
        "\n",
        "* **Dash Integration:** Works seamlessly with Dash, Plotly's framework for building analytical web applications."
      ],
      "metadata": {
        "id": "SXYRxfZz88DC"
      }
    },
    {
      "cell_type": "markdown",
      "source": [
        "## **15. How does NumPy handle multidimensional arrays?**"
      ],
      "metadata": {
        "id": "oqDIZECP88HJ"
      }
    },
    {
      "cell_type": "markdown",
      "source": [
        "**Answer:**"
      ],
      "metadata": {
        "id": "Yu0iCwdm88KZ"
      }
    },
    {
      "cell_type": "markdown",
      "source": [
        "NumPy's core strength lies in its efficient handling of multidimensional arrays, which are called `ndarray` objects. It treats arrays as contiguous blocks of memory, allowing for highly optimized operations.\n",
        "\n",
        "* **Shape:** Each `ndarray` has a `shape` attribute that defines its dimensions (e.g., a 2D array might have a shape of (rows, columns)).\n",
        "\n",
        "* **Indexing and Slicing:** You can access elements or subsets of these arrays using familiar bracket notation with multiple indices (e.g., `arr[row, column])` or advanced slicing techniques.\n",
        "\n",
        "* **Mathematical Operations:** Most NumPy functions and operations are designed to work directly on these multidimensional arrays element-wise, or according to broadcasting rules, without requiring explicit loops. This makes operations like matrix multiplication, element-wise addition, and transposing very straightforward and fast."
      ],
      "metadata": {
        "id": "gJhrSyn188Nd"
      }
    },
    {
      "cell_type": "markdown",
      "source": [
        "## **16. What is the role of Bokeh in data visualization?**"
      ],
      "metadata": {
        "id": "2jLBfuAY88Qo"
      }
    },
    {
      "cell_type": "markdown",
      "source": [
        "**Answer:-**"
      ],
      "metadata": {
        "id": "lEGX7Efg88T3"
      }
    },
    {
      "cell_type": "markdown",
      "source": [
        "Bokeh is a Python library for creating interactive visualizations for modern web browsers. Its role is to enable the creation of highly interactive, web-based plots and dashboards directly from Python code.\n",
        "\n",
        "* **Interactivity:** Similar to Plotly, Bokeh focuses on interactivity, allowing for custom interactions, widgets, and dynamic updates.\n",
        "\n",
        "* **Streaming Data:** It's particularly well-suited for visualizing streaming or large datasets efficiently.\n",
        "\n",
        "* **Customization:** Offers extensive customization options for plot appearance and behavior.\n",
        "\n",
        "* **Standalone HTML/Server:** Can generate standalone HTML files, or be integrated into web applications via a Bokeh server for more complex, dynamic dashboards."
      ],
      "metadata": {
        "id": "VcJ1cMyg88Wf"
      }
    },
    {
      "cell_type": "markdown",
      "source": [
        "## **17. Explain the difference between apply() and map() in Pandas.**"
      ],
      "metadata": {
        "id": "lIYIXhQCJJxn"
      }
    },
    {
      "cell_type": "markdown",
      "source": [
        "**Answer**"
      ],
      "metadata": {
        "id": "QSMBEha-JJ0a"
      }
    },
    {
      "cell_type": "markdown",
      "source": [
        "* `apply():`\n",
        "\n",
        "* **Purpose:** More general-purpose. Can be applied to a Series, DataFrame row-wise, or DataFrame column-wise.\n",
        "\n",
        "* **Usage:** Often used when you need to apply a function that operates on an entire Series (e.g., calculate a statistic for each column) or on each row of a DataFrame.\n",
        "\n",
        "* **Flexibility:** The function passed to `apply()` can accept a Series or a DataFrame row/column as input.\n",
        "\n",
        "`map():`\n",
        "\n",
        "* **Purpose:** Specifically designed for Series. Used to substitute each value in a Series with another value.\n",
        "\n",
        "* **Usage:** Ideal for element-wise mapping or transformation, like replacing values based on a dictionary or another Series.\n",
        "\n",
        "* **Input:** The function or dictionary passed to `map()` operates on individual elements.\n",
        "\n",
        "In short: `map()` is for element-wise transformations on a Series. `apply()` is more versatile and can operate on Series, rows, or columns, often for more complex transformations or aggregations."
      ],
      "metadata": {
        "id": "Yk-rrBpvJJ26"
      }
    },
    {
      "cell_type": "markdown",
      "source": [
        "## **18. What are some advanced features of NumPy?**"
      ],
      "metadata": {
        "id": "fzNqhBe1JJ6A"
      }
    },
    {
      "cell_type": "markdown",
      "source": [
        "**Answer:-**"
      ],
      "metadata": {
        "id": "Zz8Z8yzDJJ9j"
      }
    },
    {
      "cell_type": "markdown",
      "source": [
        "Beyond basic array operations, some advanced features of NumPy include:\n",
        "\n",
        "* **Universal Functions (ufuncs):** Highly optimized C functions that operate element-wise on arrays. They support broadcasting and provide significant speedups.\n",
        "\n",
        "* **Linear Algebra:** Comprehensive set of functions for linear algebra operations (e.g., matrix multiplication, determinants, eigenvalues, singular value decomposition).\n",
        "\n",
        "* **Random Number Generation:** Sophisticated tools for generating various types of random numbers and distributions.\n",
        "\n",
        "* **Broadcasting Rules:** Complex broadcasting rules allow operations between arrays of different shapes.\n",
        "\n",
        "Memory Management (Views vs. Copies): Understanding when operations return a \"view\" (no new memory allocated) versus a \"copy\" (new memory allocated) is crucial for performance and avoiding unexpected side effects.\n",
        "\n",
        "* **Structured Arrays:** Arrays that can hold data of different types, similar to C structs or database rows, but still within the ndarray framework.\n",
        "\n",
        "* **Fancy Indexing and Boolean Indexing:** Powerful ways to select non-contiguous elements or elements based on a condition."
      ],
      "metadata": {
        "id": "8rXkKSt_J-ZA"
      }
    },
    {
      "cell_type": "markdown",
      "source": [
        "## **19. How does Pandas simplify time series analysis?**"
      ],
      "metadata": {
        "id": "3sa5JMz9J-br"
      }
    },
    {
      "cell_type": "markdown",
      "source": [
        "**Answer:-**"
      ],
      "metadata": {
        "id": "rPflOwnDJ-eb"
      }
    },
    {
      "cell_type": "markdown",
      "source": [
        "Pandas significantly simplifies time series analysis through:\n",
        "\n",
        "* **DatetimeIndex:** Its specialized DatetimeIndex allows for powerful and intuitive indexing, slicing, and resampling of time-stamped data.\n",
        "\n",
        "* **Resampling:** Easily change the frequency of time series data (e.g., from daily to monthly, or vice versa) using methods like resample().\n",
        "\n",
        "* **Time-aware Operations:** Built-in functions for time-aware operations like shift(), diff(), and rolling window calculations (e.g., rolling().mean()).\n",
        "\n",
        "* **Missing Data Handling:** Robust tools for handling missing values in time series (e.g., fillna(), bfill(), ffill()).\n",
        "\n",
        "* **Offsets and Frequencies:** Support for various date and time offsets and frequencies (e.g., 'D' for daily, 'M' for monthly, 'H' for hourly).\n",
        "\n",
        "* **Plotting Integration:** Seamless integration with Matplotlib and other plotting libraries for visualizing time series"
      ],
      "metadata": {
        "id": "LK5s5tJSJ-g3"
      }
    },
    {
      "cell_type": "markdown",
      "source": [
        "## **20. What is the role of a pivot table in Pandas?**"
      ],
      "metadata": {
        "id": "B9DAnb_UJ-kQ"
      }
    },
    {
      "cell_type": "markdown",
      "source": [
        "**Answer:-**"
      ],
      "metadata": {
        "id": "c4F4K9o8KuoY"
      }
    },
    {
      "cell_type": "markdown",
      "source": [
        "A pivot table in Pandas is a powerful tool used to summarize and reorganize data in a DataFrame. Its role is to:\n",
        "\n",
        "* **Aggregate Data:** Allow you to aggregate data (e.g., sum, mean, count) based on one or more \"pivot\" columns.\n",
        "\n",
        "* **Reshape Data:** Transform \"long\" format data into a \"wide\" format, making it easier to analyze relationships between different variables.\n",
        "\n",
        "* **Multi-level Summaries:** Create multi-level row and column indexes for complex summaries, enabling you to slice and dice data from different perspectives.\n",
        "\n",
        "* **Reporting:** Ideal for generating summary reports and cross-tabulations, similar to pivot tables in spreadsheet software."
      ],
      "metadata": {
        "id": "EoCWAk-cKuq-"
      }
    },
    {
      "cell_type": "markdown",
      "source": [
        "## **21. Why is NumPy's array slicing faster than Python's list slicing?**"
      ],
      "metadata": {
        "id": "BQ6caoyuKuuX"
      }
    },
    {
      "cell_type": "markdown",
      "source": [
        "**Answer:**"
      ],
      "metadata": {
        "id": "yyTn0SAzKuxl"
      }
    },
    {
      "cell_type": "markdown",
      "source": [
        "NumPy's array slicing is significantly faster than Python's list slicing primarily due to:\n",
        "\n",
        "* **Memory Contiguity:** NumPy arrays store elements of the same data type contiguously in memory. This allows for highly efficient low-level (C/Fortran) memory access and processing. Python lists, on the other hand, store pointers to objects that can be scattered in memory.\n",
        "\n",
        "* **Views vs. Copies:** When you slice a NumPy array, it often returns a \"view\" of the original array (i.e., a new array object that refers to the same underlying data). This avoids the overhead of creating a new copy of the data, saving both time and memory. Python list slicing always creates a new list, copying the elements.\n",
        "\n",
        "* **Optimized Implementations:** NumPy's slicing operations are implemented in highly optimized C code, leveraging efficient memory access patterns. Python list slicing is handled at a higher, less optimized level."
      ],
      "metadata": {
        "id": "OnO70-yLxSgQ"
      }
    },
    {
      "cell_type": "markdown",
      "source": [
        "## **22. What are some common use cases for Seaborn?**"
      ],
      "metadata": {
        "id": "PHAmp3VuxSi9"
      }
    },
    {
      "cell_type": "markdown",
      "source": [
        "**Answer**"
      ],
      "metadata": {
        "id": "ZQIKjf_PxSlh"
      }
    },
    {
      "cell_type": "markdown",
      "source": [
        "Seaborn is excellent for various statistical visualization tasks:\n",
        "\n",
        "* **Exploring Distributions:** Plotting histograms, kernel density estimates (KDEs), and box plots to understand the distribution of variables.\n",
        "\n",
        "* **Visualizing Relationships:** Creating scatter plots, line plots, and regression plots to show relationships between numerical variables.\n",
        "\n",
        "* **Categorical Data Visualization:** Generating bar plots, count plots, and box plots for comparing data across different categories.\n",
        "\n",
        "* **Heatmaps:** Visualizing correlation matrices or general matrix data to identify patterns.\n",
        "\n",
        "* **Pair Plots:** Getting a quick overview of pairwise relationships between all numerical variables in a dataset.\n",
        "\n",
        "* **Time Series Plots:** Although Matplotlib is the base, Seaborn can often make time series plots more aesthetically pleasing and integrate well with Pandas' time series features.\n",
        "\n",
        "* **Facet Grids:** Creating grids of plots that show relationships conditioned on different levels of categorical variables."
      ],
      "metadata": {
        "id": "KV0HoaKZxSoY"
      }
    },
    {
      "cell_type": "markdown",
      "source": [
        "# **PRACTICAL QUESTIONS**"
      ],
      "metadata": {
        "id": "b7BySzA1xSrM"
      }
    },
    {
      "cell_type": "markdown",
      "source": [
        "## **1. How do you create a 2D NumPy array and calculate the sum of each row?**"
      ],
      "metadata": {
        "id": "5rN8S-yGxStr"
      }
    },
    {
      "cell_type": "markdown",
      "source": [
        "**Answer:**"
      ],
      "metadata": {
        "id": "VKf5ETewxSw_"
      }
    },
    {
      "cell_type": "code",
      "source": [
        "import numpy as np\n",
        "\n",
        "arr = np.array([[1, 2, 3], [4, 5, 6]])\n",
        "row_sums = np.sum(arr, axis=1)\n",
        "print(\"Row sums:\", row_sums)"
      ],
      "metadata": {
        "colab": {
          "base_uri": "https://localhost:8080/"
        },
        "id": "m5SNbOkWyRtT",
        "outputId": "bc9eeeae-6347-4df6-f47b-3c46dda45a83"
      },
      "execution_count": 6,
      "outputs": [
        {
          "output_type": "stream",
          "name": "stdout",
          "text": [
            "Row sums: [ 6 15]\n"
          ]
        }
      ]
    },
    {
      "cell_type": "markdown",
      "source": [
        "## **2. Write a Pandas script to find the mean of a specific column in a DataFrame**"
      ],
      "metadata": {
        "id": "zna9zI8ryBkH"
      }
    },
    {
      "cell_type": "markdown",
      "source": [
        "**Answer:**"
      ],
      "metadata": {
        "id": "RScF9HlRyBmx"
      }
    },
    {
      "cell_type": "code",
      "source": [
        "import pandas as pd\n",
        "\n",
        "df = pd.DataFrame({'A': [1, 2, 3], 'B': [4, 5, 6]})\n",
        "mean_A = df['A'].mean()\n",
        "print(\"Mean of column A:\", mean_A)\n",
        "\n"
      ],
      "metadata": {
        "colab": {
          "base_uri": "https://localhost:8080/"
        },
        "id": "RJcJ9pekyeOj",
        "outputId": "81ad993f-d667-4ecb-fcc2-e33b9ddfae33"
      },
      "execution_count": 7,
      "outputs": [
        {
          "output_type": "stream",
          "name": "stdout",
          "text": [
            "Mean of column A: 2.0\n"
          ]
        }
      ]
    },
    {
      "cell_type": "markdown",
      "source": [
        "## **3. A Create a scatter plot using Matplotlib.**"
      ],
      "metadata": {
        "id": "E8Kyjo3uyBsX"
      }
    },
    {
      "cell_type": "markdown",
      "source": [
        "**Answer:**\n"
      ],
      "metadata": {
        "id": "uHTBoXMXyBvA"
      }
    },
    {
      "cell_type": "code",
      "source": [
        "import matplotlib.pyplot as plt\n",
        "\n",
        "x = [1, 2, 3, 4]\n",
        "y = [10, 20, 25, 30]\n",
        "plt.scatter(x, y)\n",
        "plt.title(\"Scatter Plot\")\n",
        "plt.xlabel(\"X Axis\")\n",
        "plt.ylabel(\"Y Axis\")\n",
        "plt.show()\n"
      ],
      "metadata": {
        "colab": {
          "base_uri": "https://localhost:8080/",
          "height": 472
        },
        "id": "FGpi5C9jy012",
        "outputId": "8783988b-39b0-4d7f-d5fd-8790028f4789"
      },
      "execution_count": 8,
      "outputs": [
        {
          "output_type": "display_data",
          "data": {
            "text/plain": [
              "<Figure size 640x480 with 1 Axes>"
            ],
            "image/png": "[encoded data removed]"
          },
          "metadata": {}
        }
      ]
    },
    {
      "cell_type": "markdown",
      "source": [
        "## **4. How do you calculate the correlation matrix using Seaborn and visualize it with a heatmap?**"
      ],
      "metadata": {
        "id": "9qxGflx3yBxs"
      }
    },
    {
      "cell_type": "markdown",
      "source": [
        "**Answer:**"
      ],
      "metadata": {
        "id": "KKuzOwsryB0J"
      }
    },
    {
      "cell_type": "code",
      "source": [
        "\n",
        "import seaborn as sns\n",
        "\n",
        "df = pd.DataFrame(np.random.rand(5, 3), columns=['A', 'B', 'C'])\n",
        "corr = df.corr()\n",
        "sns.heatmap(corr, annot=True, cmap='coolwarm')\n",
        "plt.show()\n"
      ],
      "metadata": {
        "colab": {
          "base_uri": "https://localhost:8080/",
          "height": 435
        },
        "id": "2DHVquUay9o6",
        "outputId": "86d29861-ee90-436b-92c9-daae0bed5334"
      },
      "execution_count": 9,
      "outputs": [
        {
          "output_type": "display_data",
          "data": {
            "text/plain": [
              "<Figure size 640x480 with 2 Axes>"
            ],
            "image/png": "[encoded data removed]"
          },
          "metadata": {}
        }
      ]
    },
    {
      "cell_type": "markdown",
      "source": [
        "## **5. Generate a bar plot using Plotly.**"
      ],
      "metadata": {
        "id": "cVXLUABkyB3m"
      }
    },
    {
      "cell_type": "markdown",
      "source": [
        "**Answer:**"
      ],
      "metadata": {
        "id": "Gen_DTfzzEuV"
      }
    },
    {
      "cell_type": "code",
      "source": [
        "import plotly.express as px\n",
        "\n",
        "data = {'Fruits': ['Apples', 'Bananas', 'Oranges'], 'Quantity': [15, 30, 20]}\n",
        "df = pd.DataFrame(data)\n",
        "fig = px.bar(df, x='Fruits', y='Quantity', title='Fruit Quantities')\n",
        "fig.show()"
      ],
      "metadata": {
        "colab": {
          "base_uri": "https://localhost:8080/",
          "height": 542
        },
        "id": "vw1PoiA-zB16",
        "outputId": "1798a865-995f-472d-b5c5-2a5dcd7f764f"
      },
      "execution_count": 10,
      "outputs": [
        {
          "output_type": "display_data",
          "data": {
            "text/html": [
              "<html>\n",
              "<head><meta charset=\"utf-8\" /></head>\n",
              "<body>\n",
              "    <div>            <script src=\"https://cdnjs.cloudflare.com/ajax/libs/mathjax/2.7.5/MathJax.js?config=TeX-AMS-MML_SVG\"></script><script type=\"text/javascript\">if (window.MathJax && window.MathJax.Hub && window.MathJax.Hub.Config) {window.MathJax.Hub.Config({SVG: {font: \"STIX-Web\"}});}</script>                <script type=\"text/javascript\">window.PlotlyConfig = {MathJaxConfig: 'local'};</script>\n",
              "        <script charset=\"utf-8\" src=\"https://cdn.plot.ly/plotly-2.35.2.min.js\"></script>                <div id=\"83e50501-27c9-45a0-8bdf-d3811456a13e\" class=\"plotly-graph-div\" style=\"height:525px; width:100%;\"></div>            <script type=\"text/javascript\">                                    window.PLOTLYENV=window.PLOTLYENV || {};                                    if (document.getElementById(\"83e50501-27c9-45a0-8bdf-d3811456a13e\")) {                    Plotly.newPlot(                        \"83e50501-27c9-45a0-8bdf-d3811456a13e\",                        [{\"alignmentgroup\":\"True\",\"hovertemplate\":\"Fruits=%{x}\\u003cbr\\u003eQuantity=%{y}\\u003cextra\\u003e\\u003c\\u002fextra\\u003e\",\"legendgroup\":\"\",\"marker\":{\"color\":\"#636efa\",\"pattern\":{\"shape\":\"\"}},\"name\":\"\",\"offsetgroup\":\"\",\"orientation\":\"v\",\"showlegend\":false,\"textposition\":\"auto\",\"x\":[\"Apples\",\"Bananas\",\"Oranges\"],\"xaxis\":\"x\",\"y\":[15,30,20],\"yaxis\":\"y\",\"type\":\"bar\"}],                        {\"template\":{\"data\":{\"histogram2dcontour\":[{\"type\":\"histogram2dcontour\",\"colorbar\":{\"outlinewidth\":0,\"ticks\":\"\"},\"colorscale\":[[0.0,\"#0d0887\"],[0.1111111111111111,\"#46039f\"],[0.2222222222222222,\"#7201a8\"],[0.3333333333333333,\"#9c179e\"],[0.4444444444444444,\"#bd3786\"],[0.5555555555555556,\"#d8576b\"],[0.6666666666666666,\"#ed7953\"],[0.7777777777777778,\"#fb9f3a\"],[0.8888888888888888,\"#fdca26\"],[1.0,\"#f0f921\"]]}],\"choropleth\":[{\"type\":\"choropleth\",\"colorbar\":{\"outlinewidth\":0,\"ticks\":\"\"}}],\"histogram2d\":[{\"type\":\"histogram2d\",\"colorbar\":{\"outlinewidth\":0,\"ticks\":\"\"},\"colorscale\":[[0.0,\"#0d0887\"],[0.1111111111111111,\"#46039f\"],[0.2222222222222222,\"#7201a8\"],[0.3333333333333333,\"#9c179e\"],[0.4444444444444444,\"#bd3786\"],[0.5555555555555556,\"#d8576b\"],[0.6666666666666666,\"#ed7953\"],[0.7777777777777778,\"#fb9f3a\"],[0.8888888888888888,\"#fdca26\"],[1.0,\"#f0f921\"]]}],\"heatmap\":[{\"type\":\"heatmap\",\"colorbar\":{\"outlinewidth\":0,\"ticks\":\"\"},\"colorscale\":[[0.0,\"#0d0887\"],[0.1111111111111111,\"#46039f\"],[0.2222222222222222,\"#7201a8\"],[0.3333333333333333,\"#9c179e\"],[0.4444444444444444,\"#bd3786\"],[0.5555555555555556,\"#d8576b\"],[0.6666666666666666,\"#ed7953\"],[0.7777777777777778,\"#fb9f3a\"],[0.8888888888888888,\"#fdca26\"],[1.0,\"#f0f921\"]]}],\"heatmapgl\":[{\"type\":\"heatmapgl\",\"colorbar\":{\"outlinewidth\":0,\"ticks\":\"\"},\"colorscale\":[[0.0,\"#0d0887\"],[0.1111111111111111,\"#46039f\"],[0.2222222222222222,\"#7201a8\"],[0.3333333333333333,\"#9c179e\"],[0.4444444444444444,\"#bd3786\"],[0.5555555555555556,\"#d8576b\"],[0.6666666666666666,\"#ed7953\"],[0.7777777777777778,\"#fb9f3a\"],[0.8888888888888888,\"#fdca26\"],[1.0,\"#f0f921\"]]}],\"contourcarpet\":[{\"type\":\"contourcarpet\",\"colorbar\":{\"outlinewidth\":0,\"ticks\":\"\"}}],\"contour\":[{\"type\":\"contour\",\"colorbar\":{\"outlinewidth\":0,\"ticks\":\"\"},\"colorscale\":[[0.0,\"#0d0887\"],[0.1111111111111111,\"#46039f\"],[0.2222222222222222,\"#7201a8\"],[0.3333333333333333,\"#9c179e\"],[0.4444444444444444,\"#bd3786\"],[0.5555555555555556,\"#d8576b\"],[0.6666666666666666,\"#ed7953\"],[0.7777777777777778,\"#fb9f3a\"],[0.8888888888888888,\"#fdca26\"],[1.0,\"#f0f921\"]]}],\"surface\":[{\"type\":\"surface\",\"colorbar\":{\"outlinewidth\":0,\"ticks\":\"\"},\"colorscale\":[[0.0,\"#0d0887\"],[0.1111111111111111,\"#46039f\"],[0.2222222222222222,\"#7201a8\"],[0.3333333333333333,\"#9c179e\"],[0.4444444444444444,\"#bd3786\"],[0.5555555555555556,\"#d8576b\"],[0.6666666666666666,\"#ed7953\"],[0.7777777777777778,\"#fb9f3a\"],[0.8888888888888888,\"#fdca26\"],[1.0,\"#f0f921\"]]}],\"mesh3d\":[{\"type\":\"mesh3d\",\"colorbar\":{\"outlinewidth\":0,\"ticks\":\"\"}}],\"scatter\":[{\"fillpattern\":{\"fillmode\":\"overlay\",\"size\":10,\"solidity\":0.2},\"type\":\"scatter\"}],\"parcoords\":[{\"type\":\"parcoords\",\"line\":{\"colorbar\":{\"outlinewidth\":0,\"ticks\":\"\"}}}],\"scatterpolargl\":[{\"type\":\"scatterpolargl\",\"marker\":{\"colorbar\":{\"outlinewidth\":0,\"ticks\":\"\"}}}],\"bar\":[{\"error_x\":{\"color\":\"#2a3f5f\"},\"error_y\":{\"color\":\"#2a3f5f\"},\"marker\":{\"line\":{\"color\":\"#E5ECF6\",\"width\":0.5},\"pattern\":{\"fillmode\":\"overlay\",\"size\":10,\"solidity\":0.2}},\"type\":\"bar\"}],\"scattergeo\":[{\"type\":\"scattergeo\",\"marker\":{\"colorbar\":{\"outlinewidth\":0,\"ticks\":\"\"}}}],\"scatterpolar\":[{\"type\":\"scatterpolar\",\"marker\":{\"colorbar\":{\"outlinewidth\":0,\"ticks\":\"\"}}}],\"histogram\":[{\"marker\":{\"pattern\":{\"fillmode\":\"overlay\",\"size\":10,\"solidity\":0.2}},\"type\":\"histogram\"}],\"scattergl\":[{\"type\":\"scattergl\",\"marker\":{\"colorbar\":{\"outlinewidth\":0,\"ticks\":\"\"}}}],\"scatter3d\":[{\"type\":\"scatter3d\",\"line\":{\"colorbar\":{\"outlinewidth\":0,\"ticks\":\"\"}},\"marker\":{\"colorbar\":{\"outlinewidth\":0,\"ticks\":\"\"}}}],\"scattermapbox\":[{\"type\":\"scattermapbox\",\"marker\":{\"colorbar\":{\"outlinewidth\":0,\"ticks\":\"\"}}}],\"scatterternary\":[{\"type\":\"scatterternary\",\"marker\":{\"colorbar\":{\"outlinewidth\":0,\"ticks\":\"\"}}}],\"scattercarpet\":[{\"type\":\"scattercarpet\",\"marker\":{\"colorbar\":{\"outlinewidth\":0,\"ticks\":\"\"}}}],\"carpet\":[{\"aaxis\":{\"endlinecolor\":\"#2a3f5f\",\"gridcolor\":\"white\",\"linecolor\":\"white\",\"minorgridcolor\":\"white\",\"startlinecolor\":\"#2a3f5f\"},\"baxis\":{\"endlinecolor\":\"#2a3f5f\",\"gridcolor\":\"white\",\"linecolor\":\"white\",\"minorgridcolor\":\"white\",\"startlinecolor\":\"#2a3f5f\"},\"type\":\"carpet\"}],\"table\":[{\"cells\":{\"fill\":{\"color\":\"#EBF0F8\"},\"line\":{\"color\":\"white\"}},\"header\":{\"fill\":{\"color\":\"#C8D4E3\"},\"line\":{\"color\":\"white\"}},\"type\":\"table\"}],\"barpolar\":[{\"marker\":{\"line\":{\"color\":\"#E5ECF6\",\"width\":0.5},\"pattern\":{\"fillmode\":\"overlay\",\"size\":10,\"solidity\":0.2}},\"type\":\"barpolar\"}],\"pie\":[{\"automargin\":true,\"type\":\"pie\"}]},\"layout\":{\"autotypenumbers\":\"strict\",\"colorway\":[\"#636efa\",\"#EF553B\",\"#00cc96\",\"#ab63fa\",\"#FFA15A\",\"#19d3f3\",\"#FF6692\",\"#B6E880\",\"#FF97FF\",\"#FECB52\"],\"font\":{\"color\":\"#2a3f5f\"},\"hovermode\":\"closest\",\"hoverlabel\":{\"align\":\"left\"},\"paper_bgcolor\":\"white\",\"plot_bgcolor\":\"#E5ECF6\",\"polar\":{\"bgcolor\":\"#E5ECF6\",\"angularaxis\":{\"gridcolor\":\"white\",\"linecolor\":\"white\",\"ticks\":\"\"},\"radialaxis\":{\"gridcolor\":\"white\",\"linecolor\":\"white\",\"ticks\":\"\"}},\"ternary\":{\"bgcolor\":\"#E5ECF6\",\"aaxis\":{\"gridcolor\":\"white\",\"linecolor\":\"white\",\"ticks\":\"\"},\"baxis\":{\"gridcolor\":\"white\",\"linecolor\":\"white\",\"ticks\":\"\"},\"caxis\":{\"gridcolor\":\"white\",\"linecolor\":\"white\",\"ticks\":\"\"}},\"coloraxis\":{\"colorbar\":{\"outlinewidth\":0,\"ticks\":\"\"}},\"colorscale\":{\"sequential\":[[0.0,\"#0d0887\"],[0.1111111111111111,\"#46039f\"],[0.2222222222222222,\"#7201a8\"],[0.3333333333333333,\"#9c179e\"],[0.4444444444444444,\"#bd3786\"],[0.5555555555555556,\"#d8576b\"],[0.6666666666666666,\"#ed7953\"],[0.7777777777777778,\"#fb9f3a\"],[0.8888888888888888,\"#fdca26\"],[1.0,\"#f0f921\"]],\"sequentialminus\":[[0.0,\"#0d0887\"],[0.1111111111111111,\"#46039f\"],[0.2222222222222222,\"#7201a8\"],[0.3333333333333333,\"#9c179e\"],[0.4444444444444444,\"#bd3786\"],[0.5555555555555556,\"#d8576b\"],[0.6666666666666666,\"#ed7953\"],[0.7777777777777778,\"#fb9f3a\"],[0.8888888888888888,\"#fdca26\"],[1.0,\"#f0f921\"]],\"diverging\":[[0,\"#8e0152\"],[0.1,\"#c51b7d\"],[0.2,\"#de77ae\"],[0.3,\"#f1b6da\"],[0.4,\"#fde0ef\"],[0.5,\"#f7f7f7\"],[0.6,\"#e6f5d0\"],[0.7,\"#b8e186\"],[0.8,\"#7fbc41\"],[0.9,\"#4d9221\"],[1,\"#276419\"]]},\"xaxis\":{\"gridcolor\":\"white\",\"linecolor\":\"white\",\"ticks\":\"\",\"title\":{\"standoff\":15},\"zerolinecolor\":\"white\",\"automargin\":true,\"zerolinewidth\":2},\"yaxis\":{\"gridcolor\":\"white\",\"linecolor\":\"white\",\"ticks\":\"\",\"title\":{\"standoff\":15},\"zerolinecolor\":\"white\",\"automargin\":true,\"zerolinewidth\":2},\"scene\":{\"xaxis\":{\"backgroundcolor\":\"#E5ECF6\",\"gridcolor\":\"white\",\"linecolor\":\"white\",\"showbackground\":true,\"ticks\":\"\",\"zerolinecolor\":\"white\",\"gridwidth\":2},\"yaxis\":{\"backgroundcolor\":\"#E5ECF6\",\"gridcolor\":\"white\",\"linecolor\":\"white\",\"showbackground\":true,\"ticks\":\"\",\"zerolinecolor\":\"white\",\"gridwidth\":2},\"zaxis\":{\"backgroundcolor\":\"#E5ECF6\",\"gridcolor\":\"white\",\"linecolor\":\"white\",\"showbackground\":true,\"ticks\":\"\",\"zerolinecolor\":\"white\",\"gridwidth\":2}},\"shapedefaults\":{\"line\":{\"color\":\"#2a3f5f\"}},\"annotationdefaults\":{\"arrowcolor\":\"#2a3f5f\",\"arrowhead\":0,\"arrowwidth\":1},\"geo\":{\"bgcolor\":\"white\",\"landcolor\":\"#E5ECF6\",\"subunitcolor\":\"white\",\"showland\":true,\"showlakes\":true,\"lakecolor\":\"white\"},\"title\":{\"x\":0.05},\"mapbox\":{\"style\":\"light\"}}},\"xaxis\":{\"anchor\":\"y\",\"domain\":[0.0,1.0],\"title\":{\"text\":\"Fruits\"}},\"yaxis\":{\"anchor\":\"x\",\"domain\":[0.0,1.0],\"title\":{\"text\":\"Quantity\"}},\"legend\":{\"tracegroupgap\":0},\"title\":{\"text\":\"Fruit Quantities\"},\"barmode\":\"relative\"},                        {\"responsive\": true}                    ).then(function(){\n",
              "                            \n",
              "var gd = document.getElementById('83e50501-27c9-45a0-8bdf-d3811456a13e');\n",
              "var x = new MutationObserver(function (mutations, observer) {{\n",
              "        var display = window.getComputedStyle(gd).display;\n",
              "        if (!display || display === 'none') {{\n",
              "            console.log([gd, 'removed!']);\n",
              "            Plotly.purge(gd);\n",
              "            observer.disconnect();\n",
              "        }}\n",
              "}});\n",
              "\n",
              "// Listen for the removal of the full notebook cells\n",
              "var notebookContainer = gd.closest('#notebook-container');\n",
              "if (notebookContainer) {{\n",
              "    x.observe(notebookContainer, {childList: true});\n",
              "}}\n",
              "\n",
              "// Listen for the clearing of the current output cell\n",
              "var outputEl = gd.closest('.output');\n",
              "if (outputEl) {{\n",
              "    x.observe(outputEl, {childList: true});\n",
              "}}\n",
              "\n",
              "                        })                };                            </script>        </div>\n",
              "</body>\n",
              "</html>"
            ]
          },
          "metadata": {}
        }
      ]
    },
    {
      "cell_type": "markdown",
      "source": [
        "## **6. Create a DataFrame and add a new column based on an existing column.**"
      ],
      "metadata": {
        "id": "syqypc9QzKPG"
      }
    },
    {
      "cell_type": "markdown",
      "source": [
        "**Answer:**"
      ],
      "metadata": {
        "id": "GTcLHS2_zKSA"
      }
    },
    {
      "cell_type": "code",
      "source": [
        "df = pd.DataFrame({'A': [1, 2, 3]})\n",
        "df['B'] = df['A'] * 2\n",
        "print(df)"
      ],
      "metadata": {
        "colab": {
          "base_uri": "https://localhost:8080/"
        },
        "id": "2ZnDkWPLzbUB",
        "outputId": "45b2a9d8-1b93-4014-ee10-994c214cdf7d"
      },
      "execution_count": 11,
      "outputs": [
        {
          "output_type": "stream",
          "name": "stdout",
          "text": [
            "   A  B\n",
            "0  1  2\n",
            "1  2  4\n",
            "2  3  6\n"
          ]
        }
      ]
    },
    {
      "cell_type": "markdown",
      "source": [
        "## **7. Write a program to perform element-wise multiplication of two NumPy arrays.**"
      ],
      "metadata": {
        "id": "tTjmhPbxzKVv"
      }
    },
    {
      "cell_type": "markdown",
      "source": [
        "**Answer:**"
      ],
      "metadata": {
        "id": "H4JqeDPQzKYG"
      }
    },
    {
      "cell_type": "code",
      "source": [
        "a = np.array([1, 2, 3])\n",
        "b = np.array([4, 5, 6])\n",
        "result = a * b\n",
        "print(\"Element-wise multiplication:\", result)"
      ],
      "metadata": {
        "colab": {
          "base_uri": "https://localhost:8080/"
        },
        "id": "RSib4ykvzkQ2",
        "outputId": "ea21b3fd-7d9a-4dde-86c7-862cb6c969c0"
      },
      "execution_count": 12,
      "outputs": [
        {
          "output_type": "stream",
          "name": "stdout",
          "text": [
            "Element-wise multiplication: [ 4 10 18]\n"
          ]
        }
      ]
    },
    {
      "cell_type": "markdown",
      "source": [
        "## **8. Create a line plot with multiple lines using Matplotlib.**"
      ],
      "metadata": {
        "id": "bFpVjuvbzKal"
      }
    },
    {
      "cell_type": "markdown",
      "source": [
        "**Answer:**"
      ],
      "metadata": {
        "id": "RydsU6TCzKc-"
      }
    },
    {
      "cell_type": "code",
      "source": [
        "x = [1, 2, 3, 4]\n",
        "y1 = [10, 20, 30, 40]\n",
        "y2 = [40, 30, 20, 10]\n",
        "plt.plot(x, y1, label='Line 1')\n",
        "plt.plot(x, y2, label='Line 2')\n",
        "plt.legend()\n",
        "plt.title(\"Multiple Lines\")\n",
        "plt.show()\n"
      ],
      "metadata": {
        "colab": {
          "base_uri": "https://localhost:8080/",
          "height": 452
        },
        "id": "Ofen8220zwHw",
        "outputId": "335bd519-ceb6-478a-ce70-e5dc140b52e1"
      },
      "execution_count": 13,
      "outputs": [
        {
          "output_type": "display_data",
          "data": {
            "text/plain": [
              "<Figure size 640x480 with 1 Axes>"
            ],
            "image/png": "[encoded data removed]"
          },
          "metadata": {}
        }
      ]
    },
    {
      "cell_type": "markdown",
      "source": [
        "## **9. Generate a Pandas DataFrame and filter rows where a column value is greater than a threshold.**"
      ],
      "metadata": {
        "id": "D9Bn6DC1zKgh"
      }
    },
    {
      "cell_type": "markdown",
      "source": [
        "**Answer:**"
      ],
      "metadata": {
        "id": "KL4BeVxDzKjK"
      }
    },
    {
      "cell_type": "code",
      "source": [
        "df = pd.DataFrame({'A': [10, 20, 5, 30]})\n",
        "filtered_df = df[df['A'] > 15]\n",
        "print(filtered_df)\n"
      ],
      "metadata": {
        "colab": {
          "base_uri": "https://localhost:8080/"
        },
        "id": "s8tQRYnqz5we",
        "outputId": "841bbc04-6121-4c43-ec92-8080da2be7bd"
      },
      "execution_count": 14,
      "outputs": [
        {
          "output_type": "stream",
          "name": "stdout",
          "text": [
            "    A\n",
            "1  20\n",
            "3  30\n"
          ]
        }
      ]
    },
    {
      "cell_type": "markdown",
      "source": [
        "## **10. Create a histogram using Seaborn to visualize a distribution.**"
      ],
      "metadata": {
        "id": "NQOubHBizKmt"
      }
    },
    {
      "cell_type": "markdown",
      "source": [
        "**Answer:**"
      ],
      "metadata": {
        "id": "1Eld48uH0BLw"
      }
    },
    {
      "cell_type": "code",
      "source": [
        "sns.histplot(df['A'], bins=5, kde=True)\n",
        "plt.title(\"Histogram\")\n",
        "plt.show()"
      ],
      "metadata": {
        "colab": {
          "base_uri": "https://localhost:8080/",
          "height": 472
        },
        "id": "B-oRK3Stz8tG",
        "outputId": "8cb74833-7b65-422c-a330-3954e7a69ffb"
      },
      "execution_count": 15,
      "outputs": [
        {
          "output_type": "display_data",
          "data": {
            "text/plain": [
              "<Figure size 640x480 with 1 Axes>"
            ],
            "image/png": "[encoded data removed]"
          },
          "metadata": {}
        }
      ]
    },
    {
      "cell_type": "markdown",
      "source": [
        "## **11. Perform matrix multiplication using NumPy.**"
      ],
      "metadata": {
        "id": "j1I0jXQmzKt0"
      }
    },
    {
      "cell_type": "markdown",
      "source": [
        "**Answer:**"
      ],
      "metadata": {
        "id": "HjdMkeYvzKxO"
      }
    },
    {
      "cell_type": "code",
      "source": [
        "mat1 = np.array([[1, 2], [3, 4]])\n",
        "mat2 = np.array([[5, 6], [7, 8]])\n",
        "product = np.dot(mat1, mat2)\n",
        "print(\"Matrix multiplication result:\\n\", product)"
      ],
      "metadata": {
        "colab": {
          "base_uri": "https://localhost:8080/"
        },
        "id": "HMqcdEKAzHd0",
        "outputId": "a42f7c93-8d7d-4007-c0c3-db67549d52be"
      },
      "execution_count": 16,
      "outputs": [
        {
          "output_type": "stream",
          "name": "stdout",
          "text": [
            "Matrix multiplication result:\n",
            " [[19 22]\n",
            " [43 50]]\n"
          ]
        }
      ]
    },
    {
      "cell_type": "markdown",
      "source": [
        "## **12. Use Pandas to load a CSV file and display its first 5 rows.**"
      ],
      "metadata": {
        "id": "ENd2er-s0gH-"
      }
    },
    {
      "cell_type": "markdown",
      "source": [
        "**Answer:**"
      ],
      "metadata": {
        "id": "LHAc8DA50gKy"
      }
    },
    {
      "cell_type": "code",
      "source": [
        "!pip install pandas\n"
      ],
      "metadata": {
        "colab": {
          "base_uri": "https://localhost:8080/"
        },
        "id": "B0NmrVr90mKk",
        "outputId": "c654e156-201e-4db4-bb7e-79c4af80cdcb"
      },
      "execution_count": 17,
      "outputs": [
        {
          "output_type": "stream",
          "name": "stdout",
          "text": [
            "Requirement already satisfied: pandas in /usr/local/lib/python3.11/dist-packages (2.2.2)\n",
            "Requirement already satisfied: numpy>=1.23.2 in /usr/local/lib/python3.11/dist-packages (from pandas) (2.0.2)\n",
            "Requirement already satisfied: python-dateutil>=2.8.2 in /usr/local/lib/python3.11/dist-packages (from pandas) (2.9.0.post0)\n",
            "Requirement already satisfied: pytz>=2020.1 in /usr/local/lib/python3.11/dist-packages (from pandas) (2025.2)\n",
            "Requirement already satisfied: tzdata>=2022.7 in /usr/local/lib/python3.11/dist-packages (from pandas) (2025.2)\n",
            "Requirement already satisfied: six>=1.5 in /usr/local/lib/python3.11/dist-packages (from python-dateutil>=2.8.2->pandas) (1.17.0)\n"
          ]
        }
      ]
    },
    {
      "cell_type": "code",
      "source": [
        "import pandas as pd\n"
      ],
      "metadata": {
        "id": "u4FkhrMk0sf6"
      },
      "execution_count": 18,
      "outputs": []
    },
    {
      "cell_type": "code",
      "source": [
        "\n",
        "# Create a sample DataFrame\n",
        "data = {\n",
        "    'Name': ['Chavi', 'Lucky', 'Vidhi', 'Rohan', 'Mugdha'],\n",
        "    'Age': [26, 24, 23, 25, 24],\n",
        "    'City': ['Noida', 'Noida', 'Banglure', 'New Delhi', 'Patna']\n",
        "}\n",
        "\n",
        "df = pd.DataFrame(data)\n",
        "\n",
        "# Save it as a CSV file\n",
        "df.to_csv('sample.csv', index=False)\n",
        "\n",
        "# Load the CSV file using pandas\n",
        "loaded_df = pd.read_csv('sample.csv')\n",
        "\n",
        "# Display the first 5 rows\n",
        "print(loaded_df.head())"
      ],
      "metadata": {
        "colab": {
          "base_uri": "https://localhost:8080/"
        },
        "id": "PWVqFXCJ0u7D",
        "outputId": "25604d72-fd92-4d87-a877-3d1bfbb56168"
      },
      "execution_count": 19,
      "outputs": [
        {
          "output_type": "stream",
          "name": "stdout",
          "text": [
            "     Name  Age       City\n",
            "0   Chavi   26      Noida\n",
            "1   Lucky   24      Noida\n",
            "2   Vidhi   23   Banglure\n",
            "3   Rohan   25  New Delhi\n",
            "4  Mugdha   24      Patna\n"
          ]
        }
      ]
    },
    {
      "cell_type": "markdown",
      "source": [
        "## **13. Create a 3D scatter plot using Plotly.**"
      ],
      "metadata": {
        "id": "wTwM9g6F0gNq"
      }
    },
    {
      "cell_type": "markdown",
      "source": [
        "**Answer:**"
      ],
      "metadata": {
        "id": "7kaC3KQb0gSI"
      }
    },
    {
      "cell_type": "code",
      "source": [
        "import plotly.graph_objects as go\n",
        "\n",
        "fig = go.Figure(data=[go.Scatter3d(\n",
        "    x=[1, 2, 3],\n",
        "    y=[4, 5, 6],\n",
        "    z=[7, 8, 9],\n",
        "    mode='markers'\n",
        ")])\n",
        "fig.update_layout(title='3D Scatter Plot')\n",
        "fig.show()"
      ],
      "metadata": {
        "colab": {
          "base_uri": "https://localhost:8080/",
          "height": 542
        },
        "id": "UNfmQhPD0-MG",
        "outputId": "22359315-ee7f-47b5-806a-8e611b3c42bb"
      },
      "execution_count": 20,
      "outputs": [
        {
          "output_type": "display_data",
          "data": {
            "text/html": [
              "<html>\n",
              "<head><meta charset=\"utf-8\" /></head>\n",
              "<body>\n",
              "    <div>            <script src=\"https://cdnjs.cloudflare.com/ajax/libs/mathjax/2.7.5/MathJax.js?config=TeX-AMS-MML_SVG\"></script><script type=\"text/javascript\">if (window.MathJax && window.MathJax.Hub && window.MathJax.Hub.Config) {window.MathJax.Hub.Config({SVG: {font: \"STIX-Web\"}});}</script>                <script type=\"text/javascript\">window.PlotlyConfig = {MathJaxConfig: 'local'};</script>\n",
              "        <script charset=\"utf-8\" src=\"https://cdn.plot.ly/plotly-2.35.2.min.js\"></script>                <div id=\"371608d9-346d-4c55-9773-0ca2e992d2b9\" class=\"plotly-graph-div\" style=\"height:525px; width:100%;\"></div>            <script type=\"text/javascript\">                                    window.PLOTLYENV=window.PLOTLYENV || {};                                    if (document.getElementById(\"371608d9-346d-4c55-9773-0ca2e992d2b9\")) {                    Plotly.newPlot(                        \"371608d9-346d-4c55-9773-0ca2e992d2b9\",                        [{\"mode\":\"markers\",\"x\":[1,2,3],\"y\":[4,5,6],\"z\":[7,8,9],\"type\":\"scatter3d\"}],                        {\"template\":{\"data\":{\"histogram2dcontour\":[{\"type\":\"histogram2dcontour\",\"colorbar\":{\"outlinewidth\":0,\"ticks\":\"\"},\"colorscale\":[[0.0,\"#0d0887\"],[0.1111111111111111,\"#46039f\"],[0.2222222222222222,\"#7201a8\"],[0.3333333333333333,\"#9c179e\"],[0.4444444444444444,\"#bd3786\"],[0.5555555555555556,\"#d8576b\"],[0.6666666666666666,\"#ed7953\"],[0.7777777777777778,\"#fb9f3a\"],[0.8888888888888888,\"#fdca26\"],[1.0,\"#f0f921\"]]}],\"choropleth\":[{\"type\":\"choropleth\",\"colorbar\":{\"outlinewidth\":0,\"ticks\":\"\"}}],\"histogram2d\":[{\"type\":\"histogram2d\",\"colorbar\":{\"outlinewidth\":0,\"ticks\":\"\"},\"colorscale\":[[0.0,\"#0d0887\"],[0.1111111111111111,\"#46039f\"],[0.2222222222222222,\"#7201a8\"],[0.3333333333333333,\"#9c179e\"],[0.4444444444444444,\"#bd3786\"],[0.5555555555555556,\"#d8576b\"],[0.6666666666666666,\"#ed7953\"],[0.7777777777777778,\"#fb9f3a\"],[0.8888888888888888,\"#fdca26\"],[1.0,\"#f0f921\"]]}],\"heatmap\":[{\"type\":\"heatmap\",\"colorbar\":{\"outlinewidth\":0,\"ticks\":\"\"},\"colorscale\":[[0.0,\"#0d0887\"],[0.1111111111111111,\"#46039f\"],[0.2222222222222222,\"#7201a8\"],[0.3333333333333333,\"#9c179e\"],[0.4444444444444444,\"#bd3786\"],[0.5555555555555556,\"#d8576b\"],[0.6666666666666666,\"#ed7953\"],[0.7777777777777778,\"#fb9f3a\"],[0.8888888888888888,\"#fdca26\"],[1.0,\"#f0f921\"]]}],\"heatmapgl\":[{\"type\":\"heatmapgl\",\"colorbar\":{\"outlinewidth\":0,\"ticks\":\"\"},\"colorscale\":[[0.0,\"#0d0887\"],[0.1111111111111111,\"#46039f\"],[0.2222222222222222,\"#7201a8\"],[0.3333333333333333,\"#9c179e\"],[0.4444444444444444,\"#bd3786\"],[0.5555555555555556,\"#d8576b\"],[0.6666666666666666,\"#ed7953\"],[0.7777777777777778,\"#fb9f3a\"],[0.8888888888888888,\"#fdca26\"],[1.0,\"#f0f921\"]]}],\"contourcarpet\":[{\"type\":\"contourcarpet\",\"colorbar\":{\"outlinewidth\":0,\"ticks\":\"\"}}],\"contour\":[{\"type\":\"contour\",\"colorbar\":{\"outlinewidth\":0,\"ticks\":\"\"},\"colorscale\":[[0.0,\"#0d0887\"],[0.1111111111111111,\"#46039f\"],[0.2222222222222222,\"#7201a8\"],[0.3333333333333333,\"#9c179e\"],[0.4444444444444444,\"#bd3786\"],[0.5555555555555556,\"#d8576b\"],[0.6666666666666666,\"#ed7953\"],[0.7777777777777778,\"#fb9f3a\"],[0.8888888888888888,\"#fdca26\"],[1.0,\"#f0f921\"]]}],\"surface\":[{\"type\":\"surface\",\"colorbar\":{\"outlinewidth\":0,\"ticks\":\"\"},\"colorscale\":[[0.0,\"#0d0887\"],[0.1111111111111111,\"#46039f\"],[0.2222222222222222,\"#7201a8\"],[0.3333333333333333,\"#9c179e\"],[0.4444444444444444,\"#bd3786\"],[0.5555555555555556,\"#d8576b\"],[0.6666666666666666,\"#ed7953\"],[0.7777777777777778,\"#fb9f3a\"],[0.8888888888888888,\"#fdca26\"],[1.0,\"#f0f921\"]]}],\"mesh3d\":[{\"type\":\"mesh3d\",\"colorbar\":{\"outlinewidth\":0,\"ticks\":\"\"}}],\"scatter\":[{\"fillpattern\":{\"fillmode\":\"overlay\",\"size\":10,\"solidity\":0.2},\"type\":\"scatter\"}],\"parcoords\":[{\"type\":\"parcoords\",\"line\":{\"colorbar\":{\"outlinewidth\":0,\"ticks\":\"\"}}}],\"scatterpolargl\":[{\"type\":\"scatterpolargl\",\"marker\":{\"colorbar\":{\"outlinewidth\":0,\"ticks\":\"\"}}}],\"bar\":[{\"error_x\":{\"color\":\"#2a3f5f\"},\"error_y\":{\"color\":\"#2a3f5f\"},\"marker\":{\"line\":{\"color\":\"#E5ECF6\",\"width\":0.5},\"pattern\":{\"fillmode\":\"overlay\",\"size\":10,\"solidity\":0.2}},\"type\":\"bar\"}],\"scattergeo\":[{\"type\":\"scattergeo\",\"marker\":{\"colorbar\":{\"outlinewidth\":0,\"ticks\":\"\"}}}],\"scatterpolar\":[{\"type\":\"scatterpolar\",\"marker\":{\"colorbar\":{\"outlinewidth\":0,\"ticks\":\"\"}}}],\"histogram\":[{\"marker\":{\"pattern\":{\"fillmode\":\"overlay\",\"size\":10,\"solidity\":0.2}},\"type\":\"histogram\"}],\"scattergl\":[{\"type\":\"scattergl\",\"marker\":{\"colorbar\":{\"outlinewidth\":0,\"ticks\":\"\"}}}],\"scatter3d\":[{\"type\":\"scatter3d\",\"line\":{\"colorbar\":{\"outlinewidth\":0,\"ticks\":\"\"}},\"marker\":{\"colorbar\":{\"outlinewidth\":0,\"ticks\":\"\"}}}],\"scattermapbox\":[{\"type\":\"scattermapbox\",\"marker\":{\"colorbar\":{\"outlinewidth\":0,\"ticks\":\"\"}}}],\"scatterternary\":[{\"type\":\"scatterternary\",\"marker\":{\"colorbar\":{\"outlinewidth\":0,\"ticks\":\"\"}}}],\"scattercarpet\":[{\"type\":\"scattercarpet\",\"marker\":{\"colorbar\":{\"outlinewidth\":0,\"ticks\":\"\"}}}],\"carpet\":[{\"aaxis\":{\"endlinecolor\":\"#2a3f5f\",\"gridcolor\":\"white\",\"linecolor\":\"white\",\"minorgridcolor\":\"white\",\"startlinecolor\":\"#2a3f5f\"},\"baxis\":{\"endlinecolor\":\"#2a3f5f\",\"gridcolor\":\"white\",\"linecolor\":\"white\",\"minorgridcolor\":\"white\",\"startlinecolor\":\"#2a3f5f\"},\"type\":\"carpet\"}],\"table\":[{\"cells\":{\"fill\":{\"color\":\"#EBF0F8\"},\"line\":{\"color\":\"white\"}},\"header\":{\"fill\":{\"color\":\"#C8D4E3\"},\"line\":{\"color\":\"white\"}},\"type\":\"table\"}],\"barpolar\":[{\"marker\":{\"line\":{\"color\":\"#E5ECF6\",\"width\":0.5},\"pattern\":{\"fillmode\":\"overlay\",\"size\":10,\"solidity\":0.2}},\"type\":\"barpolar\"}],\"pie\":[{\"automargin\":true,\"type\":\"pie\"}]},\"layout\":{\"autotypenumbers\":\"strict\",\"colorway\":[\"#636efa\",\"#EF553B\",\"#00cc96\",\"#ab63fa\",\"#FFA15A\",\"#19d3f3\",\"#FF6692\",\"#B6E880\",\"#FF97FF\",\"#FECB52\"],\"font\":{\"color\":\"#2a3f5f\"},\"hovermode\":\"closest\",\"hoverlabel\":{\"align\":\"left\"},\"paper_bgcolor\":\"white\",\"plot_bgcolor\":\"#E5ECF6\",\"polar\":{\"bgcolor\":\"#E5ECF6\",\"angularaxis\":{\"gridcolor\":\"white\",\"linecolor\":\"white\",\"ticks\":\"\"},\"radialaxis\":{\"gridcolor\":\"white\",\"linecolor\":\"white\",\"ticks\":\"\"}},\"ternary\":{\"bgcolor\":\"#E5ECF6\",\"aaxis\":{\"gridcolor\":\"white\",\"linecolor\":\"white\",\"ticks\":\"\"},\"baxis\":{\"gridcolor\":\"white\",\"linecolor\":\"white\",\"ticks\":\"\"},\"caxis\":{\"gridcolor\":\"white\",\"linecolor\":\"white\",\"ticks\":\"\"}},\"coloraxis\":{\"colorbar\":{\"outlinewidth\":0,\"ticks\":\"\"}},\"colorscale\":{\"sequential\":[[0.0,\"#0d0887\"],[0.1111111111111111,\"#46039f\"],[0.2222222222222222,\"#7201a8\"],[0.3333333333333333,\"#9c179e\"],[0.4444444444444444,\"#bd3786\"],[0.5555555555555556,\"#d8576b\"],[0.6666666666666666,\"#ed7953\"],[0.7777777777777778,\"#fb9f3a\"],[0.8888888888888888,\"#fdca26\"],[1.0,\"#f0f921\"]],\"sequentialminus\":[[0.0,\"#0d0887\"],[0.1111111111111111,\"#46039f\"],[0.2222222222222222,\"#7201a8\"],[0.3333333333333333,\"#9c179e\"],[0.4444444444444444,\"#bd3786\"],[0.5555555555555556,\"#d8576b\"],[0.6666666666666666,\"#ed7953\"],[0.7777777777777778,\"#fb9f3a\"],[0.8888888888888888,\"#fdca26\"],[1.0,\"#f0f921\"]],\"diverging\":[[0,\"#8e0152\"],[0.1,\"#c51b7d\"],[0.2,\"#de77ae\"],[0.3,\"#f1b6da\"],[0.4,\"#fde0ef\"],[0.5,\"#f7f7f7\"],[0.6,\"#e6f5d0\"],[0.7,\"#b8e186\"],[0.8,\"#7fbc41\"],[0.9,\"#4d9221\"],[1,\"#276419\"]]},\"xaxis\":{\"gridcolor\":\"white\",\"linecolor\":\"white\",\"ticks\":\"\",\"title\":{\"standoff\":15},\"zerolinecolor\":\"white\",\"automargin\":true,\"zerolinewidth\":2},\"yaxis\":{\"gridcolor\":\"white\",\"linecolor\":\"white\",\"ticks\":\"\",\"title\":{\"standoff\":15},\"zerolinecolor\":\"white\",\"automargin\":true,\"zerolinewidth\":2},\"scene\":{\"xaxis\":{\"backgroundcolor\":\"#E5ECF6\",\"gridcolor\":\"white\",\"linecolor\":\"white\",\"showbackground\":true,\"ticks\":\"\",\"zerolinecolor\":\"white\",\"gridwidth\":2},\"yaxis\":{\"backgroundcolor\":\"#E5ECF6\",\"gridcolor\":\"white\",\"linecolor\":\"white\",\"showbackground\":true,\"ticks\":\"\",\"zerolinecolor\":\"white\",\"gridwidth\":2},\"zaxis\":{\"backgroundcolor\":\"#E5ECF6\",\"gridcolor\":\"white\",\"linecolor\":\"white\",\"showbackground\":true,\"ticks\":\"\",\"zerolinecolor\":\"white\",\"gridwidth\":2}},\"shapedefaults\":{\"line\":{\"color\":\"#2a3f5f\"}},\"annotationdefaults\":{\"arrowcolor\":\"#2a3f5f\",\"arrowhead\":0,\"arrowwidth\":1},\"geo\":{\"bgcolor\":\"white\",\"landcolor\":\"#E5ECF6\",\"subunitcolor\":\"white\",\"showland\":true,\"showlakes\":true,\"lakecolor\":\"white\"},\"title\":{\"x\":0.05},\"mapbox\":{\"style\":\"light\"}}},\"title\":{\"text\":\"3D Scatter Plot\"}},                        {\"responsive\": true}                    ).then(function(){\n",
              "                            \n",
              "var gd = document.getElementById('371608d9-346d-4c55-9773-0ca2e992d2b9');\n",
              "var x = new MutationObserver(function (mutations, observer) {{\n",
              "        var display = window.getComputedStyle(gd).display;\n",
              "        if (!display || display === 'none') {{\n",
              "            console.log([gd, 'removed!']);\n",
              "            Plotly.purge(gd);\n",
              "            observer.disconnect();\n",
              "        }}\n",
              "}});\n",
              "\n",
              "// Listen for the removal of the full notebook cells\n",
              "var notebookContainer = gd.closest('#notebook-container');\n",
              "if (notebookContainer) {{\n",
              "    x.observe(notebookContainer, {childList: true});\n",
              "}}\n",
              "\n",
              "// Listen for the clearing of the current output cell\n",
              "var outputEl = gd.closest('.output');\n",
              "if (outputEl) {{\n",
              "    x.observe(outputEl, {childList: true});\n",
              "}}\n",
              "\n",
              "                        })                };                            </script>        </div>\n",
              "</body>\n",
              "</html>"
            ]
          },
          "metadata": {}
        }
      ]
    }
  ]
}