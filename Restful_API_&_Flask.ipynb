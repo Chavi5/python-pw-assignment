{
  "cells": [
    {
      "cell_type": "markdown",
      "metadata": {
        "id": "1zNhvSYP6EvE"
      },
      "source": [
        "# **THEORY QUESTION**"
      ]
    },
    {
      "cell_type": "markdown",
      "metadata": {
        "id": "SGc5vdxZ6Exh"
      },
      "source": [
        "## **1. What is a RESTful API?**"
      ]
    },
    {
      "cell_type": "markdown",
      "metadata": {
        "id": "zPht9cbl6E0T"
      },
      "source": [
        "**Answer:**"
      ]
    },
    {
      "cell_type": "markdown",
      "metadata": {
        "id": "4fObyFDL6E28"
      },
      "source": [
        "A RESTful API (Representational State Transfer API) is a type of web API that follows the principles of REST architecture, which is a set of guidelines for building scalable and maintainable web services.\n",
        "\n",
        "**Key Concepts of a RESTful API:**\n",
        "1. Resources:\n",
        "\n",
        "    * Everything is considered a resource (e.g., users, products, posts).\n",
        "\n",
        "    * Each resource is identified by a URL (Uniform Resource Locator).\n",
        "\n",
        "      * Example: `https://api.example.com/users/123`\n",
        "\n",
        "2. HTTP Methods:\n",
        "\n",
        "RESTful APIs use standard HTTP methods to perform operations on resources:\n",
        "\n",
        "   * `GET` – Retrieve data (e.g., get a user)\n",
        "\n",
        "   * `POST` – Create a new resource (e.g., create a new user)\n",
        "\n",
        "   * `PUT` – Update an existing resource (e.g., update user data)\n",
        "\n",
        "   * `DELETE` – Remove a resource (e.g., delete a user)\n",
        "\n",
        "3. Stateless:\n",
        "\n",
        "  * Each request is independent and contains all the information needed for the server to understand and process it.\n",
        "\n",
        "  * The server does not store any client context between requests.\n",
        "\n",
        "4. JSON or XML:\n",
        "\n",
        " * Data is typically sent and received in JSON format (though XML or other formats can be used).\n",
        "\n",
        "5. Use of Standard HTTP Status Codes:\n",
        "\n",
        "   * Examples:\n",
        "\n",
        "       * `200 OK` – Success\n",
        "\n",
        "       * `201 Created` – Resource successfully created\n",
        "\n",
        "       * `404 Not Found` – Resource not found\n",
        "\n",
        "       * `500 Internal Server Error` – Server-side problem"
      ]
    },
    {
      "cell_type": "markdown",
      "metadata": {
        "id": "F6SIzwIP6E5e"
      },
      "source": [
        "## **2. Explain the concept of API specification.**"
      ]
    },
    {
      "cell_type": "markdown",
      "metadata": {
        "id": "DaYi3Ezp6E8J"
      },
      "source": [
        "**Answer**"
      ]
    },
    {
      "cell_type": "markdown",
      "metadata": {
        "id": "xUrFvraM6E-s"
      },
      "source": [
        "An API specification is a detailed, formal description of how an API behaves and how developers should interact with it. It outlines what the API does, what data it expects, what it returns, and how to access it.\n",
        "\n",
        "**Key Elements of an API Specification:**\n",
        "\n",
        "1. **Endpoints:**\n",
        "\n",
        "    * URLs that represent resources.\n",
        "\n",
        "    * Example: `/users`, `/products/{id}`\n",
        "\n",
        "2. **HTTP Methods:**\n",
        "\n",
        "    * Specifies which methods are supported for each endpoint (`GET`, `POST`, `PUT`, `DELETE`, etc.)\n",
        "\n",
        "3. **Request Format:**\n",
        "\n",
        "    * Describes required headers, query parameters, path parameters, and body payloads.\n",
        "\n",
        "4. **Response Format:**\n",
        "\n",
        "    * Defines the structure of the response, including status codes and possible return data.\n",
        "\n",
        "5. **Authentication & Authorization:**\n",
        "\n",
        "    * Explains how clients authenticate (e.g., using API keys, OAuth tokens, JWTs).\n",
        "\n",
        "6. **Error Codes and Messages:**\n",
        "\n",
        "    * Lists possible errors, HTTP status codes, and how to interpret them.\n",
        "\n"
      ]
    },
    {
      "cell_type": "markdown",
      "metadata": {
        "id": "X9veehrY6FBR"
      },
      "source": [
        "## **3. What is Flask, and why is it popular for building APIs?**"
      ]
    },
    {
      "cell_type": "markdown",
      "metadata": {
        "id": "ha7GUZIl6FD4"
      },
      "source": [
        "**Answer**"
      ]
    },
    {
      "cell_type": "markdown",
      "metadata": {
        "id": "cPF0QFMU6FG1"
      },
      "source": [
        "**Flask** is a lightweight, open-source Python web framework used to build web applications and RESTful APIs.\n",
        "\n",
        "It is classified as a microframework, meaning it provides the essential tools to get started but leaves decisions like database, form handling, and authentication up to the developer.\n",
        "\n",
        "**Why Flask Is Popular for Building APIs:**\n",
        "\n",
        "1. **Simplicity and Minimalism**\n",
        "\n",
        "    * Flask is easy to learn and use.\n",
        "\n",
        "    * You can create a working API with just a few lines of code.\n",
        "\n",
        "2. **Flexible and Unopinionated**\n",
        "\n",
        "    * You’re free to structure your app however you want.\n",
        "\n",
        "    * You can choose your own libraries for things like databases or authentication.\n",
        "\n",
        "3. **Built-in Development Server**\n",
        "\n",
        "    * Comes with a lightweight server for quick testing during development.\n",
        "\n",
        "4. **Support for RESTful Routing**\n",
        "\n",
        "    * Flask makes it easy to define routes that follow REST principles.\n",
        "\n",
        "5. **Extensive Ecosystem**\n",
        "\n",
        "    * Supports many extensions (e.g., Flask-RESTful, Flask-JWT, Flask-SQLAlchemy).\n",
        "\n",
        "    * Makes it easy to add features like authentication, database support, and input validation.\n",
        "\n",
        "6. **Active Community and Documentation**\n",
        "\n",
        "    * Well-maintained with lots of tutorials, examples, and third-party tools."
      ]
    },
    {
      "cell_type": "markdown",
      "metadata": {
        "id": "ifm09a6R6FJn"
      },
      "source": [
        "## **4. What is routing in Flask?**"
      ]
    },
    {
      "cell_type": "markdown",
      "metadata": {
        "id": "ZgX1yWwD6FMS"
      },
      "source": [
        "**Answer**"
      ]
    },
    {
      "cell_type": "markdown",
      "metadata": {
        "id": "gcMk-dJN6FO7"
      },
      "source": [
        "Routing in Flask refers to the mechanism by which URL requests are mapped to specific Python functions (views) that handle those requests. Flask uses decorators, primarily `@app.route()`, to associate a URL path with a view function. When a client makes a request to a particular URL, Flask looks up the corresponding route and executes the associated function to generate a response."
      ]
    },
    {
      "cell_type": "markdown",
      "metadata": {
        "id": "H5PtVqkA6FRs"
      },
      "source": [
        "## **5. How do you create a simple Flask application?**"
      ]
    },
    {
      "cell_type": "markdown",
      "metadata": {
        "id": "NWB80SoJ6FUy"
      },
      "source": [
        "**Answer**"
      ]
    },
    {
      "cell_type": "markdown",
      "metadata": {
        "id": "ECasTPc-6FaW"
      },
      "source": [
        "## **6. What are HTTP methods used in RESTful APIs?**"
      ]
    },
    {
      "cell_type": "markdown",
      "metadata": {
        "id": "9fFgb2dJ6FdI"
      },
      "source": [
        "**Answer**"
      ]
    },
    {
      "cell_type": "markdown",
      "metadata": {
        "id": "E9aVw2WYA6OG"
      },
      "source": [
        "\n",
        "HTTP methods (or verbs) define the type of action to be performed on a resource. The most common ones in RESTful APIs are:\n",
        "\n",
        "* **GET:** Retrieves data from a resource. (Idempotent and safe)\n",
        "\n",
        "* **POST:** Submits new data to a resource, often creating a new resource. (Neither idempotent nor safe)\n",
        "\n",
        "* **PUT:** Updates an existing resource or creates a new one if it doesn't exist. (Idempotent)\n",
        "\n",
        "* **DELETE:** Removes a resource. (Idempotent)\n",
        "\n",
        "* **PATCH:** Partially updates an existing resource. (Neither idempotent nor safe)\n",
        "\n",
        "\n"
      ]
    },
    {
      "cell_type": "markdown",
      "metadata": {
        "id": "IVbQvfuBA6Wf"
      },
      "source": [
        "## **7. What is the purpose of the @app.route() decorator in Flask?**"
      ]
    },
    {
      "cell_type": "markdown",
      "metadata": {
        "id": "jI25ZRh7A6Y1"
      },
      "source": [
        "**Answer:**"
      ]
    },
    {
      "cell_type": "markdown",
      "metadata": {
        "id": "Zz5WEEqHA6bQ"
      },
      "source": [
        "The `@app.route()` decorator in Flask is used to bind a URL path to a Python function. When a user navigates to the specified URL in their browser (or a client makes a request to that URL), the decorated function is executed, and its return value is sent back as the response to the client. It's the core mechanism for defining endpoints in a Flask application."
      ]
    },
    {
      "cell_type": "markdown",
      "metadata": {
        "id": "sEws3TOErL-N"
      },
      "source": [
        "## **8. What is the difference between GET and POST HTTP methods?**"
      ]
    },
    {
      "cell_type": "markdown",
      "metadata": {
        "id": "tBWzZbEarMA6"
      },
      "source": [
        "**Answer**"
      ]
    },
    {
      "cell_type": "markdown",
      "metadata": {
        "id": "KX1Esik2rMDt"
      },
      "source": [
        "* **GET:** Used to retrieve data from a server. Data is sent as URL parameters (query string). It is idempotent (multiple identical requests have the same effect as a single one) and safe (doesn't change server state). Data is visible in the URL and browser history.\n",
        "\n",
        "* **POST:** Used to submit data to a server, often for creating a new resource or performing an action that modifies server state. Data is sent in the request body. It is neither idempotent nor safe. Data is not visible in the URL."
      ]
    },
    {
      "cell_type": "markdown",
      "metadata": {
        "id": "IRpjCpNirMGc"
      },
      "source": [
        "## **9. How do you handle errors in Flask APIs?**"
      ]
    },
    {
      "cell_type": "markdown",
      "metadata": {
        "id": "c8q5In--rMI_"
      },
      "source": [
        "**Answer:**"
      ]
    },
    {
      "cell_type": "markdown",
      "metadata": {
        "id": "qOMdPCzQrMLp"
      },
      "source": [
        "Flask provides mechanisms for error handling:\n",
        "\n",
        "* `@app.errorhandler()` **decorator:** Used to register a function to handle specific HTTP error codes (e.g., 404 Not Found, 500 Internal Server Error).\n",
        "\n",
        "* `abort()` **function:** Used within view functions to immediately raise an HTTP error.\n",
        "\n",
        "* **Custom error classes:** You can define your own exception classes and register error handlers for them.\n",
        "\n",
        "* **JSON error responses:** For APIs, it's common to return error details in a JSON format.\n",
        "\n",
        "**Example:**"
      ]
    },
    {
      "cell_type": "code",
      "execution_count": null,
      "metadata": {
        "id": "s5IOl8xOslST"
      },
      "outputs": [],
      "source": [
        "\n",
        "from flask import Flask, abort, jsonify\n",
        "\n",
        "app = Flask(__name__)\n",
        "\n",
        "@app.errorhandler(404)\n",
        "def page_not_found(e):\n",
        "    return jsonify({\"error\": \"Resource not found\"}), 404\n",
        "\n",
        "@app.route('/resource/')\n",
        "def get_resource(id):\n",
        "    if id == 'invalid':\n",
        "        abort(404)\n",
        "    return jsonify({\"data\": f\"Resource {id}\"})"
      ]
    },
    {
      "cell_type": "markdown",
      "metadata": {
        "id": "c-M3vPUTrMOL"
      },
      "source": [
        "## **10. How do you connect Flask to a SQL database?**"
      ]
    },
    {
      "cell_type": "markdown",
      "metadata": {
        "id": "EHQDKgQ7rMQ_"
      },
      "source": [
        "**Answer:**"
      ]
    },
    {
      "cell_type": "markdown",
      "metadata": {
        "id": "bOMo7PNkrMTu"
      },
      "source": [
        "lask itself doesn't have built-in database connectivity. You connect Flask to a SQL database using various Python libraries and Flask extensions:\n",
        "\n",
        "* **SQLAlchemy:** A powerful Object Relational Mapper (ORM) that provides a high-level API to interact with databases.\n",
        "\n",
        "* **Flask-SQLAlchemy:** A Flask extension that integrates SQLAlchemy seamlessly with Flask, simplifying configuration and common database operations.\n",
        "\n",
        "* **Raw drivers:** You can use specific database drivers (e.g., psycopg2 for PostgreSQL, mysql-connector-python for MySQL, sqlite3 for SQLite) directly, though an ORM is usually preferred for complex applications."
      ]
    },
    {
      "cell_type": "markdown",
      "metadata": {
        "id": "_pfZ_rZQrMXE"
      },
      "source": [
        "## **11. What is the role of Flask-SQLAlchemy?**"
      ]
    },
    {
      "cell_type": "markdown",
      "metadata": {
        "id": "07hEl2RFrMdT"
      },
      "source": [
        "**Answer:**"
      ]
    },
    {
      "cell_type": "markdown",
      "metadata": {
        "id": "J0_aC5XUrMgG"
      },
      "source": [
        "Flask-SQLAlchemy is a Flask extension that provides SQLAlchemy support for Flask applications. Its role is to:\n",
        "\n",
        "* **Simplify configuration:** Easily configure database connections within your Flask app.\n",
        "\n",
        "* **Provide a session management system:** Manages database sessions, ensuring proper connection handling and transaction management.\n",
        "\n",
        "* **Integrate with Flask's context:** Makes database objects available within Flask's application and request contexts.\n",
        "\n",
        "* **Offer convenient helpers:** Provides helper methods for common ORM operations like querying, adding, and committing data."
      ]
    },
    {
      "cell_type": "markdown",
      "metadata": {
        "id": "8vwdFLl8rMiw"
      },
      "source": [
        "## **12. What are Flask blueprints, and how are they useful?**"
      ]
    },
    {
      "cell_type": "markdown",
      "metadata": {
        "id": "ZgJ6OrT6rMla"
      },
      "source": [
        "**Answer:**"
      ]
    },
    {
      "cell_type": "markdown",
      "metadata": {
        "id": "8yLbOIAhuqdH"
      },
      "source": [
        "Flask Blueprints are a way to organize your Flask application into smaller, reusable components. They act as \"blueprints\" for parts of your application, allowing you to define routes, static files, and templates relative to the blueprint.\n",
        "\n",
        "Their usefulness includes:\n",
        "\n",
        "* **Modularity:** Breaking down a large application into manageable, independent modules.\n",
        "\n",
        "* **Reusability:** Blueprints can be registered multiple times within the same application or even across different Flask applications.\n",
        "\n",
        "* **URL Prefixing:** Assigning a common URL prefix to all routes defined within a blueprint.\n",
        "\n",
        "* **Separation of Concerns:** Better organization for larger projects, making them easier to maintain and scale."
      ]
    },
    {
      "cell_type": "markdown",
      "metadata": {
        "id": "exbBOZ5GvSSe"
      },
      "source": [
        "## **13. What is the purpose of Flask's request object?**"
      ]
    },
    {
      "cell_type": "markdown",
      "metadata": {
        "id": "noRiifMrvScY"
      },
      "source": [
        "**Answer**"
      ]
    },
    {
      "cell_type": "markdown",
      "metadata": {
        "id": "pM8gzKOMrMoA"
      },
      "source": [
        "Flask's `request` object (imported from `flask`) is a global object that provides access to incoming request data. Its purpose is to encapsulate all information related to the current HTTP request made by the client. It allows you to access:\n",
        "\n",
        "* **HTTP Method:** `request.method` (e.g., 'GET', 'POST')\n",
        "\n",
        "* **URL Parameters:** `request.args` (for GET query parameters)\n",
        "\n",
        "* **Form Data:** `request.form` (for POST form data)\n",
        "\n",
        "* **JSON Data:** `request.json` (for JSON request bodies)\n",
        "\n",
        "* **Files:** `request.files` (for uploaded files)\n",
        "\n",
        "* **Headers:** `request.headers`\n",
        "\n",
        "* **Cookies:** `request.cookies`"
      ]
    },
    {
      "cell_type": "markdown",
      "metadata": {
        "id": "gpVWDV0WrMq1"
      },
      "source": [
        "## **14. How do you create a RESTful API endpoint using Flask?**"
      ]
    },
    {
      "cell_type": "markdown",
      "metadata": {
        "id": "qrtjAjN_rMuc"
      },
      "source": [
        "**Answer:**"
      ]
    },
    {
      "cell_type": "markdown",
      "metadata": {
        "id": "KQmjDICIrM4k"
      },
      "source": [
        "You create a RESTful API endpoint in Flask by defining a view function and associating it with a URL path and an HTTP method using the `@app.route()` decorator. You typically return JSON data using `jsonify()`.\n",
        "\n",
        "Example (for retrieving and creating users):"
      ]
    },
    {
      "cell_type": "code",
      "execution_count": null,
      "metadata": {
        "id": "jedN46H7xOTr"
      },
      "outputs": [],
      "source": [
        "from flask import Flask, jsonify, request\n",
        "\n",
        "app = Flask(__name__)\n",
        "\n",
        "users = {} # In-memory store for demonstration\n",
        "\n",
        "@app.route('/users', methods=['GET'])\n",
        "def get_users():\n",
        "    return jsonify(list(users.values()))\n",
        "\n",
        "@app.route('/users', methods=['POST'])\n",
        "def create_user():\n",
        "    data = request.json\n",
        "    if not data or 'id' not in data or 'name' not in data:\n",
        "        return jsonify({\"error\": \"Invalid user data\"}), 400\n",
        "    user_id = data['id']\n",
        "    if user_id in users:\n",
        "        return jsonify({\"error\": \"User with this ID already exists\"}), 409\n",
        "    users[user_id] = data\n",
        "    return jsonify(data), 201\n"
      ]
    },
    {
      "cell_type": "markdown",
      "metadata": {
        "id": "FyqE7SVrrM7g"
      },
      "source": [
        "## **15. What is the purpose of Flask's jsonify() function?**"
      ]
    },
    {
      "cell_type": "markdown",
      "metadata": {
        "id": "r-5FeJ8prM-f"
      },
      "source": [
        "**Answer:**"
      ]
    },
    {
      "cell_type": "markdown",
      "metadata": {
        "id": "RXB4BYv1rNBv"
      },
      "source": [
        "Flask's `jsonify()` function (imported from flask) is a helper function used to serialize Python dictionaries or lists into JSON format and return them as an HTTP response with the Content-Type header set to `application/json`. It automatically handles the conversion to JSON and sets the appropriate header, making it convenient for building RESTful APIs."
      ]
    },
    {
      "cell_type": "markdown",
      "metadata": {
        "id": "hOkMSEqlxlbD"
      },
      "source": [
        "## **16. Explain Flask's url_for() function.**"
      ]
    },
    {
      "cell_type": "markdown",
      "metadata": {
        "id": "SpyjjirWxldr"
      },
      "source": [
        "**Answer:**"
      ]
    },
    {
      "cell_type": "markdown",
      "metadata": {
        "id": "-DpHDPOWxlga"
      },
      "source": [
        "`url_for()` is a Flask helper function used for URL building. Instead of hardcoding URLs in your templates or Python code, `url_for()` generates them dynamically based on the name of the view function.\n",
        "\n",
        "Its purpose is to:\n",
        "\n",
        "* **Prevent broken links:** If you change a URL rule in your `@app.route()` decorator, `url_for()` will automatically generate the correct new URL, avoiding manual updates.\n",
        "\n",
        "* **Handle dynamic parts:** It can generate URLs with variable parts (e.g., /users/<id>).\n",
        "\n",
        "* **Support blueprints:** It works correctly with URLs defined within Flask blueprints.\n",
        "\n",
        "* **Add query parameters:** You can pass keyword arguments to `url_for()` to add query parameters to the URL.\n",
        "\n",
        "Example:"
      ]
    },
    {
      "cell_type": "code",
      "execution_count": null,
      "metadata": {
        "colab": {
          "base_uri": "https://localhost:8080/"
        },
        "id": "A6r7b_u-x98i",
        "outputId": "39fb4218-7d73-4050-8359-a751b72b6980"
      },
      "outputs": [
        {
          "name": "stdout",
          "output_type": "stream",
          "text": [
            "/user/?username=Alice\n",
            "http://localhost/user/?username=Bob\n",
            "/static/style.css\n"
          ]
        }
      ],
      "source": [
        "from flask import Flask, url_for\n",
        "\n",
        "app = Flask(__name__)\n",
        "\n",
        "@app.route('/user/')\n",
        "def profile(username):\n",
        "    pass # This function would render a user profile page\n",
        "\n",
        "with app.test_request_context():\n",
        "    print(url_for('profile', username='Alice')) # Output: /user/Alice\n",
        "    print(url_for('profile', username='Bob', _external=True)) # Output: http://localhost/user/Bob\n",
        "    print(url_for('static', filename='style.css')) # Output: /static/style.css\n"
      ]
    },
    {
      "cell_type": "markdown",
      "metadata": {
        "id": "l9Kml7pYxljF"
      },
      "source": [
        "## **17. How does Flask handle static files (CSS, JavaScript, etc.)?**"
      ]
    },
    {
      "cell_type": "markdown",
      "metadata": {
        "id": "7CRW12tDxlmK"
      },
      "source": [
        "**Answer:**"
      ]
    },
    {
      "cell_type": "markdown",
      "metadata": {
        "id": "6hRzIiq9yKOy"
      },
      "source": [
        "Flask handles `static` files (like CSS, JavaScript, images, and fonts) by serving them from a dedicated directory, typically named `static`, located within your application's root directory.\n",
        "\n",
        "* By default, Flask looks for `static` files in a folder named `static` inside your application directory.\n",
        "\n",
        "* You refer to `static` files in your templates using the `url_for()` function with the special endpoint name 'static' and the filename argument.\n",
        "\n",
        "Example in an HTML template:\n",
        "\n",
        "Flask then serves these files directly."
      ]
    },
    {
      "cell_type": "markdown",
      "metadata": {
        "id": "Jn8PMoVhyKRi"
      },
      "source": [
        "## **18. What is an API specification, and how does it help in building a Flask API?**"
      ]
    },
    {
      "cell_type": "markdown",
      "metadata": {
        "id": "RFxNllLiyKUX"
      },
      "source": [
        "**Answer:**"
      ]
    },
    {
      "cell_type": "markdown",
      "metadata": {
        "id": "nmK7SNRQyKXQ"
      },
      "source": [
        "(This question is a duplicate of #2, but I'll re-emphasize its relevance to Flask APIs.)\n",
        "\n",
        "An API specification (e.g., OpenAPI/Swagger) is a formal, machine-readable description of your API's endpoints, operations, parameters, responses, and data models.\n",
        "\n",
        "How it helps in building a Flask API:\n",
        "\n",
        "* **Clear Documentation:** Provides interactive and up-to-date documentation for API consumers.\n",
        "\n",
        "* **Code Generation:** Tools can generate client SDKs, server stubs (for Flask), and test cases directly from the spec.\n",
        "\n",
        "* **Design-First Approach:** Encourages defining the API's contract before implementation, leading to better-designed APIs.\n",
        "\n",
        "* **Consistency:** Ensures all developers adhere to the same API contract.\n",
        "\n",
        "* **Testing:** Facilitates automated testing and validation of API responses.\n",
        "\n",
        "* **Mock Servers:** Enables creation of mock servers for frontend development without waiting for backend implementation."
      ]
    },
    {
      "cell_type": "markdown",
      "metadata": {
        "id": "ivGMzO2yyKaa"
      },
      "source": [
        "## **19. What are HTTP status codes, and why are they important in a Flask API?**"
      ]
    },
    {
      "cell_type": "markdown",
      "metadata": {
        "id": "lRThduiQyKdo"
      },
      "source": [
        "**Answer:**"
      ]
    },
    {
      "cell_type": "markdown",
      "metadata": {
        "id": "gSd6AKKkyKgp"
      },
      "source": [
        "HTTP status codes are three-digit numbers returned by a server in response to an HTTP request, indicating the status of the request. They are categorized into five classes:\n",
        "\n",
        "* **1xx (Informational):** Request received, continuing process.\n",
        "\n",
        "* **2xx (Success):** The action was successfully received, understood, and accepted. (e.g., `200 OK`, `201 Created`, `204 No Content`)\n",
        "\n",
        "* **3xx (Redirection):** Further action needs to be taken to complete the request. (e.g., `301 Moved Permanently`)\n",
        "\n",
        "* **4xx (Client Error):** The request contains bad syntax or cannot be fulfilled. (e.g., `400 Bad Request`, `401 Unauthorized`, `403 Forbidden`, `404 Not Found`)\n",
        "\n",
        "* **5xx (Server Error):** The server failed to fulfill an apparently valid request. (e.g., `500 Internal Server Error`, `503 Service Unavailable`)\n",
        "\n",
        "**Importance in a Flask API:**\n",
        "\n",
        "* **Communication:** They provide immediate feedback to the client about the outcome of their request.\n",
        "\n",
        "* **Error Handling:** Crucial for signaling success, errors, or specific conditions (e.g., resource not found, invalid input).\n",
        "\n",
        "* **API Usability:** A well-designed API uses appropriate status codes to make it easier for clients to integrate and debug.\n",
        "\n",
        "* **Automated Processing:** Allows client-side code and proxies to programmatically understand the response."
      ]
    },
    {
      "cell_type": "markdown",
      "metadata": {
        "id": "SNHQdSO7yKju"
      },
      "source": [
        "## **20. How do you handle POST requests in Flask?**"
      ]
    },
    {
      "cell_type": "markdown",
      "metadata": {
        "id": "PxKJlKImyKmo"
      },
      "source": [
        "**Answer**"
      ]
    },
    {
      "cell_type": "markdown",
      "metadata": {
        "id": "Ohc5XSL4yKpu"
      },
      "source": [
        "To handle POST requests in Flask, you specify `methods=['POST']` in the `@app.route()` decorator. The data sent in the POST `request` body can then be accessed using the request object.\n",
        "\n",
        "* **Form Data (Content-Type:** `application/x-www-form-urlencoded` **or** `multipart/form-data`): Access using `request.form`.\n",
        "\n",
        "* **JSON Data (Content-Type:** `application/json`): Access using `request.json` (which automatically parses the JSON).\n",
        "\n",
        "Example (creating a new item):"
      ]
    },
    {
      "cell_type": "code",
      "execution_count": null,
      "metadata": {
        "id": "unRTw9Q01FNP"
      },
      "outputs": [],
      "source": [
        "from flask import Flask, request, jsonify\n",
        "\n",
        "app = Flask(__name__)\n",
        "\n",
        "items = []\n",
        "\n",
        "@app.route('/items', methods=['POST'])\n",
        "def add_item():\n",
        "    if request.is_json:\n",
        "        data = request.json\n",
        "        item_name = data.get('name')\n",
        "        if item_name:\n",
        "            items.append(item_name)\n",
        "            return jsonify({\"message\": f\"Item '{item_name}' added\"}), 201\n",
        "        return jsonify({\"error\": \"Name is required\"}), 400\n",
        "    return jsonify({\"error\": \"Request must be JSON\"}), 400\n",
        "\n",
        "# Example usage with curl:\n",
        "# curl -X POST -H \"Content-Type: application/json\" -d '{\"name\": \"New Item\"}' http://127.0.0.1:5000/items"
      ]
    },
    {
      "cell_type": "markdown",
      "metadata": {
        "id": "xeMOB0u4yKuU"
      },
      "source": [
        "## **21. How would you secure a Flask API?**"
      ]
    },
    {
      "cell_type": "markdown",
      "metadata": {
        "id": "-_Mqc4EjyKxA"
      },
      "source": [
        "**Answer:**"
      ]
    },
    {
      "cell_type": "markdown",
      "metadata": {
        "id": "NykhHsbF1Oqb"
      },
      "source": [
        "Securing a Flask API involves multiple layers:\n",
        "\n",
        "* **Authentication:** Verify the identity of the client.\n",
        "\n",
        "    * **Token-based (JWT):** Common for APIs. Clients send a token in headers. Use extensions like Flask-JWT-Extended.\n",
        "\n",
        "    * **OAuth2:** For third-party access.\n",
        "\n",
        "    * **API Keys:** Simpler, but less secure than tokens.\n",
        "\n",
        "* **Authorization:** Determine what an authenticated client is allowed to do.\n",
        "\n",
        "   * **Role-Based Access Control (RBAC):** Assign roles to users with specific permissions.\n",
        "\n",
        "   * **Permission-Based Access Control:** Fine-grained control over specific actions.\n",
        "\n",
        "* **Input Validation:** Sanitize and validate all incoming data (request.json, request.form) to prevent injection attacks (SQL injection, XSS). Use libraries like Marshmallow or Pydantic.\n",
        "\n",
        "* **HTTPS/SSL/TLS:** Encrypt all communication between client and server to prevent eavesdropping and tampering.\n",
        "\n",
        "* **Rate Limiting:** Prevent abuse and DoS attacks by limiting the number of requests a client can make within a time frame (Flask-Limiter).\n",
        "\n",
        "* **CORS (Cross-Origin Resource Sharing):** Properly configure CORS headers to control which origins can access your API (Flask-CORS).\n",
        "\n",
        "* **Error Handling:** Avoid leaking sensitive information in error messages.\n",
        "\n",
        "* **Secret Management:** Keep sensitive keys (e.g., database credentials, JWT secrets) out of your code and use environment variables or secret management services.\n",
        "\n",
        "* **Dependency Updates:** Regularly update Flask and all extensions to patch security vulnerabilities.\n",
        "\n",
        "* **Logging and Monitoring:** Implement robust logging to detect and respond to suspicious activity."
      ]
    },
    {
      "cell_type": "markdown",
      "metadata": {
        "id": "laeD9lcW1OtF"
      },
      "source": [
        "## **22. What is the significance of the Flask-RESTful extension?**"
      ]
    },
    {
      "cell_type": "markdown",
      "metadata": {
        "id": "gZ-Xy8Od1Ovo"
      },
      "source": [
        "**Answer:**"
      ]
    },
    {
      "cell_type": "markdown",
      "metadata": {
        "id": "oYAn1hCK1O0Y"
      },
      "source": [
        "Flask-RESTful is an extension for Flask that provides a fast way to build REST APIs. Its significance lies in:\n",
        "\n",
        "* **Resource Abstraction:** Provides a `Resource` class to define API endpoints as classes, making it easier to organize and handle different HTTP methods for a single resource.\n",
        "\n",
        "* **Request Parsing:** Includes `reqparse` for easily parsing and validating request arguments.\n",
        "\n",
        "* **Error Handling:** Offers standardized error handling for common API errors.\n",
        "\n",
        "* **Content Negotiation:** Handles content negotiation (JSON, XML) automatically.\n",
        "\n",
        "* **Marshalling:** Simplifies the process of serializing Python objects to API output formats.\n",
        "\n",
        "* **URL Routing:** Integrates seamlessly with Flask's routing but provides a more structured approach for APIs.\n",
        "\n",
        "It reduces boilerplate code and provides a more opinionated structure for API development compared to plain Flask."
      ]
    },
    {
      "cell_type": "markdown",
      "metadata": {
        "id": "vkVA07cp1O26"
      },
      "source": [
        "## **23. What is the role of Flask's session object?**"
      ]
    },
    {
      "cell_type": "markdown",
      "metadata": {
        "id": "mqxz_TyH1O5d"
      },
      "source": [
        "**Answer:**"
      ]
    },
    {
      "cell_type": "markdown",
      "metadata": {
        "id": "Oibj_fra3uGg"
      },
      "source": [
        "Flask's `session` object is a dictionary-like object (imported from `flask`) that allows you to store data specific to a user's session between requests. The data stored in the session is typically encrypted and signed, then stored in a cookie on the client's browser.\n",
        "\n",
        "Its role is to:\n",
        "\n",
        "* **Maintain State:** Provides a way to maintain state across multiple requests from the same user, as HTTP is stateless.\n",
        "\n",
        "* **Store User-Specific Data:** Store small amounts of user-specific data that don't need to be persisted in a database (e.g., logged-in user ID, flash messages, shopping cart contents).\n",
        "\n",
        "* **Security:** The session data is cryptographically signed to prevent tampering, and encrypted (though not strictly required for signing to prevent tampering, encryption provides confidentiality). You **must** set a `SECRET_KEY` for sessions to work securely.\n",
        "\n",
        "Example:"
      ]
    },
    {
      "cell_type": "code",
      "execution_count": null,
      "metadata": {
        "id": "WP-KKCDB4Awa"
      },
      "outputs": [],
      "source": [
        "from flask import Flask, session, redirect, url_for\n",
        "\n",
        "app = Flask(__name__)\n",
        "app.secret_key = 'your_secret_key_here' # MUST BE A STRONG, RANDOM KEY!\n",
        "\n",
        "@app.route('/login')\n",
        "def login():\n",
        "    session['username'] = 'JohnDoe'\n",
        "    return 'User logged in'\n",
        "\n",
        "@app.route('/dashboard')\n",
        "def dashboard():\n",
        "    if 'username' in session:\n",
        "        return f'Welcome, {session[\"username\"]}!'\n",
        "    return redirect(url_for('login'))\n",
        "\n",
        "@app.route('/logout')\n",
        "def logout():\n",
        "    session.pop('username', None)\n",
        "    return 'User logged out'"
      ]
    },
    {
      "cell_type": "markdown",
      "metadata": {
        "id": "mNyfpXgG3uMd"
      },
      "source": [
        "# **PRACTICAL QUESTIONS**"
      ]
    },
    {
      "cell_type": "markdown",
      "metadata": {
        "id": "6Cs_BkhA3uPn"
      },
      "source": [
        "## **1. How do you create a basic Flask application?**"
      ]
    },
    {
      "cell_type": "markdown",
      "metadata": {
        "id": "zSAUxPRV4KZn"
      },
      "source": [
        "**Answer:**"
      ]
    },
    {
      "cell_type": "code",
      "execution_count": null,
      "metadata": {
        "colab": {
          "background_save": true,
          "base_uri": "https://localhost:8080/"
        },
        "id": "SNLkNfKw4Q8p",
        "outputId": "da6903ba-59e6-4e25-fc84-fc2001ea34ad"
      },
      "outputs": [
        {
          "name": "stdout",
          "output_type": "stream",
          "text": [
            " * Serving Flask app '__main__'\n",
            " * Debug mode: on\n"
          ]
        },
        {
          "name": "stderr",
          "output_type": "stream",
          "text": [
            "INFO:werkzeug:\u001b[31m\u001b[1mWARNING: This is a development server. Do not use it in a production deployment. Use a production WSGI server instead.\u001b[0m\n",
            " * Running on http://127.0.0.1:5000\n",
            "INFO:werkzeug:\u001b[33mPress CTRL+C to quit\u001b[0m\n",
            "INFO:werkzeug: * Restarting with stat\n"
          ]
        }
      ],
      "source": [
        "from flask import Flask\n",
        "\n",
        "app = Flask(__name__)\n",
        "\n",
        "@app.route('/')\n",
        "def home():\n",
        "    return \"Hello, Flask!\"\n",
        "\n",
        "if __name__ == '__main__':\n",
        "    app.run(debug=True)"
      ]
    },
    {
      "cell_type": "markdown",
      "metadata": {
        "id": "eI5yMJT-4Khj"
      },
      "source": [
        "## **2. How do you serve static files like images or CSS in Flask?**"
      ]
    },
    {
      "cell_type": "markdown",
      "metadata": {
        "id": "2IrjvLsE4Kkb"
      },
      "source": [
        "**Answer:**"
      ]
    },
    {
      "cell_type": "markdown",
      "metadata": {
        "id": "W8eG4wbb4KnJ"
      },
      "source": [
        "In Flask, you serve static files (like images, CSS, JS) using the `static` folder.\n",
        "\n",
        "**How it works (short answer):**\n",
        "\n",
        "Place your static files in a folder named `static` in your Flask project directory.\n",
        "\n",
        "Flask automatically serves files from this folder at the `/static/` URL.\n",
        "\n",
        "**Example:**\n",
        "**Project structure:**"
      ]
    },
    {
      "cell_type": "code",
      "execution_count": null,
      "metadata": {
        "id": "3eMVa1A-4uIH"
      },
      "outputs": [],
      "source": [
        "my_app/\n",
        "│\n",
        "├── app.py\n",
        "└── static/\n",
        "    ├── style.css\n",
        "    └── logo.png\n"
      ]
    },
    {
      "cell_type": "markdown",
      "metadata": {
        "id": "qB6EAjLL4Kp9"
      },
      "source": [
        "In `app.py:`"
      ]
    },
    {
      "cell_type": "code",
      "execution_count": null,
      "metadata": {
        "id": "b8S4B7I65FQK"
      },
      "outputs": [],
      "source": [
        "from flask import Flask\n",
        "app = Flask(__name__)"
      ]
    },
    {
      "cell_type": "markdown",
      "metadata": {
        "id": "eEfVyNYW4Ksy"
      },
      "source": [
        "In HTML (e.g., `templates/index.html`):"
      ]
    },
    {
      "cell_type": "code",
      "execution_count": null,
      "metadata": {
        "id": "w2RcNrQE5NnW"
      },
      "outputs": [],
      "source": [
        "\n",
        "\n",
        "\n"
      ]
    },
    {
      "cell_type": "markdown",
      "metadata": {
        "id": "7ZntgSNU5Qzp"
      },
      "source": [
        "#### **Summary:**\n",
        "* Use the `/static/` route.\n",
        "\n",
        "* Use `url_for('static', filename='yourfile')` to reference them.\n",
        "\n",
        "* No extra setup needed unless you want a custom static folder."
      ]
    },
    {
      "cell_type": "markdown",
      "metadata": {
        "id": "03Yme9oZ5Q23"
      },
      "source": [
        "## **3. How do you define different routes with different HTTP methods in Flask?**"
      ]
    },
    {
      "cell_type": "markdown",
      "metadata": {
        "id": "sZDkffUC5Q6Q"
      },
      "source": [
        "**Answer:**"
      ]
    },
    {
      "cell_type": "markdown",
      "source": [
        "In Flask, you can define different routes with different HTTP methods (such as GET, POST, PUT, DELETE, etc.) by using the `@app.route()` decorator and specifying the `methods` argument. Here's how you can do it:\n",
        "\n",
        "**1. Single Route, Multiple Methods**\n",
        "\n",
        "If you want a single route (/example) to handle multiple HTTP methods, specify them in the methods list:"
      ],
      "metadata": {
        "id": "tfFyHmk-TX_y"
      }
    },
    {
      "cell_type": "code",
      "source": [
        "from flask import Flask, request\n",
        "\n",
        "app = Flask(__name__)\n",
        "\n",
        "@app.route('/example', methods=['GET', 'POST'])\n",
        "def example():\n",
        "    if request.method == 'GET':\n",
        "        return 'GET request received'\n",
        "    elif request.method == 'POST':\n",
        "        return 'POST request received'\n"
      ],
      "metadata": {
        "id": "Jz_jINL8Tizy"
      },
      "execution_count": null,
      "outputs": []
    },
    {
      "cell_type": "markdown",
      "source": [
        "**2. Different Functions for Different Methods**\n",
        "\n",
        "You can also define different functions for the same route path but different HTTP methods using `@app.route()` separately:"
      ],
      "metadata": {
        "id": "AKWUIi9xTm4Y"
      }
    },
    {
      "cell_type": "code",
      "source": [
        "@app.route('/item', methods=['GET'])\n",
        "def get_item():\n",
        "    return 'Getting item'\n",
        "\n",
        "@app.route('/item', methods=['POST'])\n",
        "def create_item():\n",
        "    return 'Creating item'"
      ],
      "metadata": {
        "id": "ffONJ2hzTw12"
      },
      "execution_count": null,
      "outputs": []
    },
    {
      "cell_type": "markdown",
      "source": [
        "However, this pattern is less common and can be less clear than handling multiple methods in a single function."
      ],
      "metadata": {
        "id": "hIuokZ4OT0sg"
      }
    },
    {
      "cell_type": "markdown",
      "source": [
        "**3. Using Flask's MethodView (Class-Based Views**)\n",
        "\n",
        "For more complex scenarios, especially with many HTTP methods, use class-based views:"
      ],
      "metadata": {
        "id": "jlycNqN-T4Ry"
      }
    },
    {
      "cell_type": "code",
      "source": [
        "from flask.views import MethodView\n",
        "\n",
        "class ItemAPI(MethodView):\n",
        "    def get(self):\n",
        "        return 'GET item'\n",
        "\n",
        "    def post(self):\n",
        "        return 'POST item'\n",
        "\n",
        "app.add_url_rule('/item', view_func=ItemAPI.as_view('item_api'))\n"
      ],
      "metadata": {
        "id": "twkYWCHeT3UC"
      },
      "execution_count": null,
      "outputs": []
    },
    {
      "cell_type": "markdown",
      "source": [
        "## **4. How do you render HTML templates in Flask?**"
      ],
      "metadata": {
        "id": "2fBlZx45SrGQ"
      }
    },
    {
      "cell_type": "markdown",
      "source": [
        "**Answer**"
      ],
      "metadata": {
        "id": "Na5nwKR4SrJI"
      }
    },
    {
      "cell_type": "markdown",
      "source": [
        "In Flask, you render HTML templates using the render_template() function. Flask uses Jinja2 as its template engine, allowing you to create dynamic HTML by embedding Python-like expressions in .html files.\n",
        "\n",
        "**Basic Steps to Render HTML Templates**\n",
        "\n",
        "**1. Create a templates/ directory**\n",
        "\n",
        "Flask looks for templates in a folder named templates by default.\n"
      ],
      "metadata": {
        "id": "iIBDVhGRSrL0"
      }
    },
    {
      "cell_type": "code",
      "source": [
        "Hello, {{ name }}\n",
        "\n",
        "\n",
        "\n",
        "from flask import render_template\n",
        "\n",
        "@app.route('/hello/')\n",
        "def hello(name):\n",
        "    return render_template('index.html', name=name)"
      ],
      "metadata": {
        "id": "nTKZmtnWcPnb"
      },
      "execution_count": null,
      "outputs": []
    },
    {
      "cell_type": "markdown",
      "source": [
        "**2. Create an HTML template (index.html)**"
      ],
      "metadata": {
        "id": "1TBCLotaSrOl"
      }
    },
    {
      "cell_type": "code",
      "source": [
        "<!-- templates/index.html -->\n",
        "<!DOCTYPE html>\n",
        "<html>\n",
        "<head>\n",
        "    <title>Hello</title>\n",
        "</head>\n",
        "<body>\n",
        "    <h1>Hello, {{ name }}!</h1>\n",
        "</body>\n",
        "</html>"
      ],
      "metadata": {
        "id": "a5oKxAsjcLcR"
      },
      "execution_count": null,
      "outputs": []
    },
    {
      "cell_type": "markdown",
      "source": [
        "**3. Render the template in your Flask app**"
      ],
      "metadata": {
        "id": "_B7S4dOjSrRY"
      }
    },
    {
      "cell_type": "code",
      "source": [
        "# app.py\n",
        "from flask import Flask, render_template\n",
        "\n",
        "app = Flask(__name__)\n",
        "\n",
        "@app.route('/')\n",
        "def home():\n",
        "    return render_template('index.html', name='Alice')\n"
      ],
      "metadata": {
        "id": "IfHDsh8lVAsR"
      },
      "execution_count": null,
      "outputs": []
    },
    {
      "cell_type": "markdown",
      "source": [
        "## **5. How can you generate URLs for routes in Flask using url_for?**"
      ],
      "metadata": {
        "id": "M96vnPthSrT2"
      }
    },
    {
      "cell_type": "markdown",
      "source": [
        "**Answer:**"
      ],
      "metadata": {
        "id": "5HBSG5swSrXN"
      }
    },
    {
      "cell_type": "code",
      "source": [
        "from flask import url_for\n",
        "\n",
        "@app.route('/about')\n",
        "def about():\n",
        "    return \"About Page\"\n",
        "\n",
        "@app.route('/link')\n",
        "def link():\n",
        "    return redirect(url_for('about'))"
      ],
      "metadata": {
        "id": "1gH8O9lUVPKE"
      },
      "execution_count": null,
      "outputs": []
    },
    {
      "cell_type": "markdown",
      "source": [
        "## **6. How do you handle forms in Flask?**"
      ],
      "metadata": {
        "id": "mnt8JYecVWTB"
      }
    },
    {
      "cell_type": "code",
      "source": [
        "@app.route('/form', methods=['GET', 'POST'])\n",
        "def form():\n",
        "    if request.method == 'POST':\n",
        "        name = request.form['name']\n",
        "        return f'Hello {name}'\n",
        "    return '''\n",
        "\n",
        "            Name:\n",
        "\n",
        "\n",
        "    '''\n"
      ],
      "metadata": {
        "id": "JkIp-xjBVaIK"
      },
      "execution_count": null,
      "outputs": []
    },
    {
      "cell_type": "markdown",
      "source": [
        "## **7. How can you validate form data in Flask?**"
      ],
      "metadata": {
        "id": "SS_1SfGCVWVd"
      }
    },
    {
      "cell_type": "markdown",
      "source": [
        "**Answer:**"
      ],
      "metadata": {
        "id": "2JiJgdobVWYz"
      }
    },
    {
      "cell_type": "markdown",
      "source": [
        "**Manual Validation**\n",
        "\n",
        "You can manually validate form data from request.form:"
      ],
      "metadata": {
        "id": "M2cVFUl8cb2g"
      }
    },
    {
      "cell_type": "code",
      "source": [
        "from flask import request\n",
        "\n",
        "@app.route('/login', methods=['POST'])\n",
        "def login():\n",
        "    username = request.form.get('username')\n",
        "    password = request.form.get('password')\n",
        "\n",
        "    if not username or not password:\n",
        "        return 'Missing fields', 400\n",
        "\n",
        "    # Add custom validation logic\n",
        "    if len(username) < 4:\n",
        "        return 'Username too short', 400\n",
        "\n",
        "    return 'Login successful'"
      ],
      "metadata": {
        "id": "eY9-ppr1b_cF"
      },
      "execution_count": null,
      "outputs": []
    },
    {
      "cell_type": "markdown",
      "source": [
        "## **8. How do you manage sessions in Flask?**"
      ],
      "metadata": {
        "id": "CFCLyZbvc0DK"
      }
    },
    {
      "cell_type": "markdown",
      "source": [
        "**Answer:**"
      ],
      "metadata": {
        "id": "2L0UwyKKcoeR"
      }
    },
    {
      "cell_type": "code",
      "source": [
        "from flask import session\n",
        "\n",
        "app.secret_key = 'secret'\n",
        "\n",
        "@app.route('/login')\n",
        "def login():\n",
        "    session['user'] = 'admin'\n",
        "    return 'Logged in'\n",
        "\n",
        "@app.route('/logout')\n",
        "def logout():\n",
        "    session.pop('user', None)\n",
        "    return 'Logged out'\n"
      ],
      "metadata": {
        "id": "TbOpzFOdc4DE"
      },
      "execution_count": null,
      "outputs": []
    },
    {
      "cell_type": "markdown",
      "source": [
        "## **9. How do you redirect to a different route in Flask?**"
      ],
      "metadata": {
        "id": "0X52rg8Ac7Gy"
      }
    },
    {
      "cell_type": "markdown",
      "source": [
        "**Answer:**"
      ],
      "metadata": {
        "id": "MptZzNQ1c-J3"
      }
    },
    {
      "cell_type": "code",
      "source": [
        "from flask import redirect\n",
        "\n",
        "@app.route('/go')\n",
        "def go():\n",
        "    return redirect('/newpage')\n"
      ],
      "metadata": {
        "id": "H-DX32Wvc8L9"
      },
      "execution_count": null,
      "outputs": []
    },
    {
      "cell_type": "markdown",
      "source": [
        "## **10. How do you handle errors in Flask (e.g., 404)?**"
      ],
      "metadata": {
        "id": "qs8tuXfVdEkg"
      }
    },
    {
      "cell_type": "markdown",
      "source": [
        "**Answer**"
      ],
      "metadata": {
        "id": "oeqaTg7hdEoF"
      }
    },
    {
      "cell_type": "code",
      "source": [
        "@app.errorhandler(404)\n",
        "def page_not_found(e):\n",
        "    return \"Page not found!\", 404\n"
      ],
      "metadata": {
        "id": "T0nW_KTgdJ_p"
      },
      "execution_count": null,
      "outputs": []
    },
    {
      "cell_type": "markdown",
      "source": [
        "## **11. How do you structure a Flask app using Blueprints?**"
      ],
      "metadata": {
        "id": "l_SEoOaudOrl"
      }
    },
    {
      "cell_type": "markdown",
      "source": [
        "**Answer:**"
      ],
      "metadata": {
        "id": "uyG_tERJdOvA"
      }
    },
    {
      "cell_type": "code",
      "source": [
        "# app/main/routes.py\n",
        "from flask import Blueprint\n",
        "\n",
        "main = Blueprint('main', __name__)\n",
        "\n",
        "@main.route('/')\n",
        "def index():\n",
        "    return \"Main Blueprint\""
      ],
      "metadata": {
        "id": "gfW7xB9odVCn"
      },
      "execution_count": null,
      "outputs": []
    },
    {
      "cell_type": "code",
      "source": [
        "# app/__init__.py\n",
        "from flask import Flask\n",
        "from app.main.routes import main\n",
        "\n",
        "def create_app():\n",
        "    app = Flask(__name__)\n",
        "    app.register_blueprint(main)\n",
        "    return app\n"
      ],
      "metadata": {
        "id": "vixEInCbdZeQ"
      },
      "execution_count": null,
      "outputs": []
    },
    {
      "cell_type": "markdown",
      "source": [
        "## **12. How do you define a custom Jinja filter in Flask?**"
      ],
      "metadata": {
        "id": "4BThjpyfdbWL"
      }
    },
    {
      "cell_type": "markdown",
      "source": [
        "**Answer:**"
      ],
      "metadata": {
        "id": "j_zj1vYYdbZw"
      }
    },
    {
      "cell_type": "code",
      "source": [
        "@app.template_filter('reverse')\n",
        "def reverse_filter(s):\n",
        "    return s[::-1]\n",
        "\n",
        "# In HTML: {{ \"Flask\" | reverse }}"
      ],
      "metadata": {
        "id": "LczAxSTKdfFr"
      },
      "execution_count": null,
      "outputs": []
    },
    {
      "cell_type": "markdown",
      "source": [
        "## **13. How can you redirect with query parameters in Flask?**"
      ],
      "metadata": {
        "id": "sXIvUkGqdkGE"
      }
    },
    {
      "cell_type": "markdown",
      "source": [
        "**Answer:**"
      ],
      "metadata": {
        "id": "yGeU5A2bdkJs"
      }
    },
    {
      "cell_type": "code",
      "source": [
        "@app.route('/go')\n",
        "def go():\n",
        "    return redirect(url_for('hello', name='Alice'))"
      ],
      "metadata": {
        "id": "jHg9eXQbdoDq"
      },
      "execution_count": null,
      "outputs": []
    },
    {
      "cell_type": "markdown",
      "source": [
        "## **14. How do you return JSON responses in Flask?**"
      ],
      "metadata": {
        "id": "3MMSBNTidr0R"
      }
    },
    {
      "cell_type": "markdown",
      "source": [
        "**Answer:**"
      ],
      "metadata": {
        "id": "RXPSPxeudr3t"
      }
    },
    {
      "cell_type": "code",
      "source": [
        "\n",
        "from flask import jsonify\n",
        "\n",
        "@app.route('/json')\n",
        "def json_data():\n",
        "    return jsonify({\"name\": \"Flask\", \"type\": \"API\"})"
      ],
      "metadata": {
        "id": "xT3Nbxpqdw4Y"
      },
      "execution_count": null,
      "outputs": []
    },
    {
      "cell_type": "markdown",
      "source": [
        "## **15. How do you capture URL parameters in Flask?**"
      ],
      "metadata": {
        "id": "4bFgzeiOd0wM"
      }
    },
    {
      "cell_type": "markdown",
      "source": [
        "**Answer:**"
      ],
      "metadata": {
        "id": "ULU0PuMEd0zm"
      }
    },
    {
      "cell_type": "code",
      "source": [
        "@app.route('/user/')\n",
        "def profile(username):\n",
        "    return f\"User: {username}\"\n"
      ],
      "metadata": {
        "id": "DZIdI8-ed4nI"
      },
      "execution_count": null,
      "outputs": []
    }
  ],
  "metadata": {
    "colab": {
      "provenance": []
    },
    "kernelspec": {
      "display_name": "Python 3",
      "name": "python3"
    },
    "language_info": {
      "name": "python"
    }
  },
  "nbformat": 4,
  "nbformat_minor": 0
}