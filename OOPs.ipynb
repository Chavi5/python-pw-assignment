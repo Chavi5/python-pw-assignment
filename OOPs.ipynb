{
  "nbformat": 4,
  "nbformat_minor": 0,
  "metadata": {
    "colab": {
      "provenance": []
    },
    "kernelspec": {
      "name": "python3",
      "display_name": "Python 3"
    },
    "language_info": {
      "name": "python"
    }
  },
  "cells": [
    {
      "cell_type": "markdown",
      "source": [
        "# **THEORY QUESTION**"
      ],
      "metadata": {
        "id": "zBS_gqL4V3Tv"
      }
    },
    {
      "cell_type": "markdown",
      "source": [
        "## **1. What is Object-Oriented Programming (OOP)?**"
      ],
      "metadata": {
        "id": "6zkCfUnAV3Wc"
      }
    },
    {
      "cell_type": "markdown",
      "source": [
        "#### **Answer:**\n",
        "\n",
        "Object-Oriented Programming (OOP) is a programming paradigm that uses \"objects\" to model real-world entities. These objects encapsulate data and the methods that operate on that data. The four main principles of OOP are encapsulation, abstraction, inheritance, and polymorphism."
      ],
      "metadata": {
        "id": "xPKEEzr-V3Y1"
      }
    },
    {
      "cell_type": "markdown",
      "source": [
        "## **2. What is a class in OOP?**"
      ],
      "metadata": {
        "id": "lAPyCgBAV3bP"
      }
    },
    {
      "cell_type": "markdown",
      "source": [
        "#### **Answer:**\n",
        "\n",
        "A class in OOP is a blueprint for creating objects. It defines attributes (data) and methods (functions) that the created objects (instances) will have. For example:"
      ],
      "metadata": {
        "id": "pJ7_frMjV3d5"
      }
    },
    {
      "cell_type": "code",
      "source": [
        "class Dog:\n",
        "    def __init__(self, name):\n",
        "        self.name = name\n",
        "    def bark(self):\n",
        "        print(\"Woof!\")"
      ],
      "metadata": {
        "id": "dylHGGi2WSmX"
      },
      "execution_count": null,
      "outputs": []
    },
    {
      "cell_type": "markdown",
      "source": [
        "## **3. What is an object in OOP?**"
      ],
      "metadata": {
        "id": "Ez3-bYRTV3gW"
      }
    },
    {
      "cell_type": "markdown",
      "source": [
        "#### **Answer:**\n",
        "\n",
        "An object is an instance of a class. It represents a specific implementation with actual values for the attributes defined in the class."
      ],
      "metadata": {
        "id": "QIGNnsiMV3it"
      }
    },
    {
      "cell_type": "markdown",
      "source": [
        "## **4. What is the difference between abstraction and encapsulation?**"
      ],
      "metadata": {
        "id": "UwXNClV0V3lF"
      }
    },
    {
      "cell_type": "markdown",
      "source": [
        "#### **Answer:**\n",
        "\n",
        "**Abstraction** hides complex implementation details and shows only the essential features.\n",
        "\n",
        "**Encapsulation** binds data and methods into a single unit and restricts access to some of the object’s components."
      ],
      "metadata": {
        "id": "vgC2nfPGV3nv"
      }
    },
    {
      "cell_type": "markdown",
      "source": [
        "## **5. What are dunder methods in Python?**"
      ],
      "metadata": {
        "id": "Xs6sPB9PV3rY"
      }
    },
    {
      "cell_type": "markdown",
      "source": [
        "#### **Answer:**\n",
        "\n",
        "Dunder (double underscore) methods are special methods in Python like `__init__`, `__str__`, and `__len__`, used to define behaviors for objects like construction, printing, and length."
      ],
      "metadata": {
        "id": "UYEz1HLRW1a0"
      }
    },
    {
      "cell_type": "markdown",
      "source": [
        "## **6. Explain the concept of inheritance in OOP.**"
      ],
      "metadata": {
        "id": "ebZnQYkgW1dO"
      }
    },
    {
      "cell_type": "markdown",
      "source": [
        "#### **Answer:**\n",
        "\n",
        "Inheritance allows a class to inherit attributes and methods from another class. This helps reuse code and establish relationships between classes."
      ],
      "metadata": {
        "id": "asl0Pj1vW1f1"
      }
    },
    {
      "cell_type": "code",
      "source": [
        "class Animal:\n",
        "    def speak(self):\n",
        "        print(\"Animal speaks\")\n",
        "\n",
        "class Dog(Animal):\n",
        "    def speak(self):\n",
        "        print(\"Bark!\")"
      ],
      "metadata": {
        "id": "ezV5ZklQXLY1"
      },
      "execution_count": null,
      "outputs": []
    },
    {
      "cell_type": "markdown",
      "source": [
        "## **7. What is polymorphism in OOP?**"
      ],
      "metadata": {
        "id": "sUdQU5fsXQJt"
      }
    },
    {
      "cell_type": "markdown",
      "source": [
        "#### **Answer:**\n",
        "\n",
        "Polymorphism allows objects of different classes to be treated as instances of the same class through a common interface."
      ],
      "metadata": {
        "id": "SztOdzfdXQMg"
      }
    },
    {
      "cell_type": "code",
      "source": [
        "class Bird:\n",
        "    def fly(self):\n",
        "        print(\"Bird flies\")\n",
        "\n",
        "class Sparrow(Bird):\n",
        "    def fly(self):\n",
        "        print(\"Sparrow flies\")"
      ],
      "metadata": {
        "id": "1wAO6ggxXdzK"
      },
      "execution_count": null,
      "outputs": []
    },
    {
      "cell_type": "markdown",
      "source": [
        "## **8. How is encapsulation achieved in Python?**"
      ],
      "metadata": {
        "id": "X-izuB5SXQO-"
      }
    },
    {
      "cell_type": "markdown",
      "source": [
        "#### **Answer:**\n",
        "\n",
        "By using private variables (prefixing with `_` or `__`) and providing getter and setter methods to control access."
      ],
      "metadata": {
        "id": "m5KyGuZ0XQRT"
      }
    },
    {
      "cell_type": "code",
      "source": [
        "class Bank:\n",
        "    def __init__(self):\n",
        "        self.__balance = 0\n",
        "    def deposit(self, amount):\n",
        "        self.__balance += amount\n"
      ],
      "metadata": {
        "id": "NlUuiOlWa8Mq"
      },
      "execution_count": null,
      "outputs": []
    },
    {
      "cell_type": "markdown",
      "source": [
        "## **9. What is a constructor in Python?**"
      ],
      "metadata": {
        "id": "pz3eMxtFXQUq"
      }
    },
    {
      "cell_type": "markdown",
      "source": [
        "#### **Answer:**\n",
        "\"The `__init__` method in a class is a constructor that initializes object attributes when an object is created.\"\n",
        "\n"
      ],
      "metadata": {
        "id": "zsMMdavhbD3J"
      }
    },
    {
      "cell_type": "markdown",
      "source": [
        "## **10. What are class and static methods in Python?**"
      ],
      "metadata": {
        "id": "RKRfLThRbD84"
      }
    },
    {
      "cell_type": "markdown",
      "source": [
        "#### **Answer:**\n",
        "\n",
        "`@classmethod`: Takes `cls` as the first argument and can modify class state.\n",
        "\n",
        "`@staticmethod`: Does not take `self` or `cls`, behaves like a regular function within a class."
      ],
      "metadata": {
        "id": "hy5NZ7MudFrv"
      }
    },
    {
      "cell_type": "markdown",
      "source": [
        "## **11. What is method overloading in Python?**"
      ],
      "metadata": {
        "id": "ecKzJxYudssZ"
      }
    },
    {
      "cell_type": "markdown",
      "source": [
        "#### **Answer:**\n",
        "\n",
        "Python does not support traditional method overloading. Instead, we use default arguments or `*args`/`**kwargs`\n",
        "."
      ],
      "metadata": {
        "id": "1ktoxhvNdsvQ"
      }
    },
    {
      "cell_type": "markdown",
      "source": [
        "## **12. What is method overriding in OOP?**"
      ],
      "metadata": {
        "id": "D7bP7XKEdsyI"
      }
    },
    {
      "cell_type": "markdown",
      "source": [
        "#### **Answer:**\n",
        "\n",
        "Method overriding occurs when a subclass provides a specific implementation of a method already defined in its parent class."
      ],
      "metadata": {
        "id": "W1d3fJREds0l"
      }
    },
    {
      "cell_type": "markdown",
      "source": [],
      "metadata": {
        "id": "hmgdfAobds3k"
      }
    },
    {
      "cell_type": "markdown",
      "source": [
        "## **13. What is a property decorator in Python?**"
      ],
      "metadata": {
        "id": "UbzzUP_1ds7C"
      }
    },
    {
      "cell_type": "markdown",
      "source": [
        "#### **Answer:**\n",
        "\n",
        "`@property` is used to define a method as a property, allowing method access like an attribute."
      ],
      "metadata": {
        "id": "REOpF6tTeeyC"
      }
    },
    {
      "cell_type": "markdown",
      "source": [
        "## **14. Why is polymorphism important in OOP?**"
      ],
      "metadata": {
        "id": "OCmKrz0wee0r"
      }
    },
    {
      "cell_type": "markdown",
      "source": [
        "#### **Answer:**\n",
        "\n",
        "Polymorphism increases flexibility and reusability of code, allowing different classes to be treated uniformly."
      ],
      "metadata": {
        "id": "yocqTYDpee3Y"
      }
    },
    {
      "cell_type": "markdown",
      "source": [
        "## **15. What is an abstract class in Python?**"
      ],
      "metadata": {
        "id": "-T53ndS5ee64"
      }
    },
    {
      "cell_type": "markdown",
      "source": [
        "#### **Answer:**\n",
        "\n",
        "An abstract class cannot be instantiated and may have abstract methods. It is defined using the abc module."
      ],
      "metadata": {
        "id": "L3S0j729e1lF"
      }
    },
    {
      "cell_type": "markdown",
      "source": [
        "## **16. What are the advantages of OOP?**"
      ],
      "metadata": {
        "id": "LdiwCJyUe1n7"
      }
    },
    {
      "cell_type": "markdown",
      "source": [
        "\n",
        "Answer:\n",
        "\n",
        "*   Reusability through inheritance\n",
        "*   Modularity via encapsulation\n",
        "*   Flexibility with polymorphism\n",
        "*   Maintainability\n",
        "\n",
        "\n",
        "\n"
      ],
      "metadata": {
        "id": "tds2GXFze1qf"
      }
    },
    {
      "cell_type": "markdown",
      "source": [
        "## **17. What is the difference between a class variable and an instance variable?**"
      ],
      "metadata": {
        "id": "ek1ZL6xQfP63"
      }
    },
    {
      "cell_type": "markdown",
      "source": [
        "#### **Answer:**\n",
        "\n",
        "**1. Class Variable**\n",
        "\n",
        "*   Shared across all instances of the class.\n",
        "*   Defined inside the class but outside any methods.\n",
        "*   Changing a class variable affects all instances (unless it's shadowed by an instance variable).\n",
        "\n",
        "**Example:**\n",
        "\n"
      ],
      "metadata": {
        "id": "0Aers-QufP-F"
      }
    },
    {
      "cell_type": "code",
      "source": [
        "class Dog:\n",
        "    species = \"Canine\"  # class variable\n",
        "\n",
        "    def __init__(self, name):\n",
        "        self.name = name  # instance variable"
      ],
      "metadata": {
        "id": "pkonzaj7huna"
      },
      "execution_count": null,
      "outputs": []
    },
    {
      "cell_type": "markdown",
      "source": [
        "**2. Instance Variable**\n",
        "\n",
        "*   Unique to each instance of the class.\n",
        "*   Usually defined using self inside the `__init__` method (or other methods).\n",
        "*   Changing an instance variable only affects that specific instance.\n",
        "\n",
        "**Example**\n",
        "\n",
        "\n",
        "\n",
        "\n"
      ],
      "metadata": {
        "id": "24peexaTfQAg"
      }
    },
    {
      "cell_type": "code",
      "source": [
        "dog1 = Dog(\"Fido\")\n",
        "dog2 = Dog(\"Buddy\")\n",
        "\n",
        "dog1.name = \"Max\"  # only changes dog1's name\n",
        "Dog.species = \"Doggo\"  # changes species for all instances"
      ],
      "metadata": {
        "id": "wM8Gw_dFiCEz"
      },
      "execution_count": null,
      "outputs": []
    },
    {
      "cell_type": "markdown",
      "source": [
        "## **18. What is multiple inheritance in Python?**"
      ],
      "metadata": {
        "id": "5x1G2fOvfQDC"
      }
    },
    {
      "cell_type": "markdown",
      "source": [
        "#### **Answer:**\n",
        "\n",
        "Multiple inheritance in Python means a class can inherit attributes and methods from more than one parent class."
      ],
      "metadata": {
        "id": "mMi8Nb6-fQGZ"
      }
    },
    {
      "cell_type": "code",
      "source": [
        "class A:\n",
        "    def speak(self):\n",
        "        print(\"A speaks\")\n",
        "\n",
        "class B:\n",
        "    def talk(self):\n",
        "        print(\"B talks\")\n",
        "\n",
        "class C(A, B):  # Multiple inheritance\n",
        "    pass\n",
        "\n",
        "obj = C()\n",
        "obj.speak()  # From class A\n",
        "obj.talk()   # From class B"
      ],
      "metadata": {
        "colab": {
          "base_uri": "https://localhost:8080/"
        },
        "id": "sLyRVe3qirhS",
        "outputId": "a5609f46-e3f3-4d94-fc97-46e0fb48a48c"
      },
      "execution_count": null,
      "outputs": [
        {
          "output_type": "stream",
          "name": "stdout",
          "text": [
            "A speaks\n",
            "B talks\n"
          ]
        }
      ]
    },
    {
      "cell_type": "markdown",
      "source": [
        "Python uses the **Method Resolution Order (MRO)** to decide which method to use when there’s overlap."
      ],
      "metadata": {
        "id": "0fhyPJQMe1t8"
      }
    },
    {
      "cell_type": "markdown",
      "source": [
        "## **19. Explain the purpose of ″_ str _ ′ and ′_ repr _′ ′ methods in Python.**"
      ],
      "metadata": {
        "id": "egIO-x55i3bA"
      }
    },
    {
      "cell_type": "markdown",
      "source": [
        "**Answer:**\n",
        "\n",
        "The `__str__` and `__repr__` methods in Python are special methods used to define how an object is represented as a string.\n",
        "\n",
        "🔹 `__str__`: User-Friendly String\n",
        "\n",
        "*   Called by `str(object)` and the `print()` function.\n",
        "*   Should return a **readable, user-friendly** string.\n",
        "*   Purpose: Representation for **end users**.\n",
        "\n",
        "\n",
        "\n"
      ],
      "metadata": {
        "id": "8WYXFl9Fi3d6"
      }
    },
    {
      "cell_type": "code",
      "source": [
        "class Person:\n",
        "    def __init__(self, name):\n",
        "        self.name = name\n",
        "\n",
        "    def __str__(self):\n",
        "        return f\"Person named {self.name}\"\n"
      ],
      "metadata": {
        "id": "CwSehkASjd1f"
      },
      "execution_count": null,
      "outputs": []
    },
    {
      "cell_type": "markdown",
      "source": [
        "🔹 `__repr__`: **Developer-Friendly String**\n",
        "\n",
        "Called by `repr(object)` or when you type the object name in an interactive shell.\n",
        "\n",
        "Should return a **precise, unambiguous** string—ideally valid Python code.\n",
        "\n",
        "Purpose: Debugging and **developer representation**."
      ],
      "metadata": {
        "id": "cglB7LM2i3g4"
      }
    },
    {
      "cell_type": "code",
      "source": [
        "def __repr__(self):\n",
        "        return f\"Person('{self.name}')\""
      ],
      "metadata": {
        "id": "AQcxWlhojxq1"
      },
      "execution_count": null,
      "outputs": []
    },
    {
      "cell_type": "markdown",
      "source": [
        "**Example in Action:**"
      ],
      "metadata": {
        "id": "uGFfaVXmi3jH"
      }
    },
    {
      "cell_type": "code",
      "source": [
        "p = Person(\"Alice\")\n",
        "\n",
        "print(p)         # Calls __str__: Person named Alice\n",
        "print(repr(p))   # Calls __repr__: Person('Alice')"
      ],
      "metadata": {
        "colab": {
          "base_uri": "https://localhost:8080/"
        },
        "id": "0sFqXFdtj3of",
        "outputId": "271087f2-6244-45f1-bcd5-a57297bb6928"
      },
      "execution_count": null,
      "outputs": [
        {
          "output_type": "stream",
          "name": "stdout",
          "text": [
            "Person named Alice\n",
            "<__main__.Person object at 0x7d759ccef4d0>\n"
          ]
        }
      ]
    },
    {
      "cell_type": "markdown",
      "source": [
        "## **20. What is the significance of the ‘super()’ function in Python.**"
      ],
      "metadata": {
        "id": "k2VlWsVDi3lt"
      }
    },
    {
      "cell_type": "markdown",
      "source": [
        "**Answer:**\n",
        "\n",
        "The `super()` function in Python is used to **call methods from a parent or sibling class**. It's especially important in **inheritance**, including **multiple inheritance**, to ensure proper method resolution and to avoid redundancy.\n",
        "\n",
        "🔹 **Key Uses of** `super()`:\n",
        "\n",
        "* **Access parent class methods** without hardcoding the parent class name.\n",
        "* **Maintain the method resolution order (MRO)** in complex inheritance structures.\n",
        "* **Avoid duplicate code** and improve maintainability.\n",
        "\n",
        "**Example:**\n",
        "\n",
        "\n",
        "\n",
        "\n"
      ],
      "metadata": {
        "id": "dhiQnZggi3pF"
      }
    },
    {
      "cell_type": "code",
      "source": [
        "class Parent:\n",
        "    def greet(self):\n",
        "        print(\"Hello from Parent\")\n",
        "\n",
        "class Child(Parent):\n",
        "    def greet(self):\n",
        "        super().greet()  # Calls Parent.greet()\n",
        "        print(\"Hello from Child\")\n",
        "\n",
        "c = Child()\n",
        "c.greet()"
      ],
      "metadata": {
        "colab": {
          "base_uri": "https://localhost:8080/"
        },
        "id": "4ZTppbh9ku2M",
        "outputId": "eba2ebfe-e77e-4b19-91f2-51324012de4d"
      },
      "execution_count": null,
      "outputs": [
        {
          "output_type": "stream",
          "name": "stdout",
          "text": [
            "Hello from Parent\n",
            "Hello from Child\n"
          ]
        }
      ]
    },
    {
      "cell_type": "markdown",
      "source": [
        "## **21. What is the significance of the _ del _ method in Python?**"
      ],
      "metadata": {
        "id": "QZFkZUYr5S9S"
      }
    },
    {
      "cell_type": "markdown",
      "source": [
        "**Answer:**\n",
        "\n",
        "The `__del__` method in Python is a destructor—it is called when an object is about to be destroyed, typically when there are no more references to it.\n",
        "\n",
        "🔹 Purpose of `__del__`:\n",
        "\n",
        "*   Used to perform cleanup actions like:\n",
        "\n",
        "     *   Closing files\n",
        "     *   Releasing network connections\n",
        "     *   Deleting temporary resources\n",
        "*   It gives you a chance to define custom teardown behavior for your objects.\n",
        "\n",
        "🔹 **Example:**\n",
        "\n"
      ],
      "metadata": {
        "id": "OzoDPMRf5cEv"
      }
    },
    {
      "cell_type": "code",
      "source": [
        "class FileHandler:\n",
        "    def __init__(self, filename):\n",
        "        self.file = open(filename, 'w')\n",
        "\n",
        "    def __del__(self):\n",
        "        print(\"Closing file\")\n",
        "        self.file.close()"
      ],
      "metadata": {
        "id": "FR0Hksa058QW"
      },
      "execution_count": null,
      "outputs": []
    },
    {
      "cell_type": "markdown",
      "source": [
        "When the object is deleted (or the program ends), `__del__` is automatically called, closing the file."
      ],
      "metadata": {
        "id": "QQRaO4bC5cHb"
      }
    },
    {
      "cell_type": "markdown",
      "source": [
        "## **22. What is the difference between @staticmethod and @classmethod in Python?**"
      ],
      "metadata": {
        "id": "9lEMYSvc5cKI"
      }
    },
    {
      "cell_type": "markdown",
      "source": [
        "**Answer**:\n",
        "\n",
        "The difference between `@staticmethod` and `@classmethod` in Python lies in **what they receive as the first argument and how they interact with the class.**\n",
        "\n",
        "🔹 `@staticmethod`\n",
        "\n",
        "*   **Does not take** `self` or `cls` as the first parameter.\n",
        "*   Behaves like a **regular function**, just lives inside the class for organization.\n",
        "\n",
        "*   Can't access or modify class or instance state.\n",
        "\n",
        "\n",
        "\n",
        "\n"
      ],
      "metadata": {
        "id": "EPVLhilY5cMv"
      }
    },
    {
      "cell_type": "code",
      "source": [
        "class MyClass:\n",
        "    @staticmethod\n",
        "    def greet():\n",
        "        print(\"Hello!\")"
      ],
      "metadata": {
        "id": "UNeKMSwF7FO9"
      },
      "execution_count": null,
      "outputs": []
    },
    {
      "cell_type": "markdown",
      "source": [
        "🔹 `@classmethod`\n",
        "\n",
        "*   Takes `cls` (the class itself) as the **first argument**.\n",
        "*   Can access and **modify class-level state.**\n",
        "\n",
        "*   Often used for **alternative constructors.**\n",
        "\n",
        "\n",
        "\n",
        "\n"
      ],
      "metadata": {
        "id": "KwF2zm3i5cPX"
      }
    },
    {
      "cell_type": "code",
      "source": [
        "class MyClass:\n",
        "    count = 0\n",
        "\n",
        "    @classmethod\n",
        "    def increment(cls):\n",
        "        cls.count += 1"
      ],
      "metadata": {
        "id": "cYXHQY-m7lDn"
      },
      "execution_count": null,
      "outputs": []
    },
    {
      "cell_type": "markdown",
      "source": [
        "## **23. How does polymorphism work in Python with inheritance?**"
      ],
      "metadata": {
        "id": "D1vKXmkG5cR_"
      }
    },
    {
      "cell_type": "markdown",
      "source": [
        "**Answer:**\n",
        "\n",
        "Objects of different classes can be treated as objects of a common base class, especially when they share the same method name, allowing the correct method to be called dynamically at runtime.\n",
        "\n",
        "🔹 **How it works:**\n",
        "\n",
        "*   Python uses **dynamic (runtime) method resolution.**\n",
        "*   Even if a variable is typed as the base class, Python checks the **actual object type** to decide which method to run.\n",
        "\n",
        "**Example:**\n",
        "\n"
      ],
      "metadata": {
        "id": "4D7848gT5cUs"
      }
    },
    {
      "cell_type": "code",
      "source": [
        "class Animal:\n",
        "    def speak(self):\n",
        "        print(\"Animal speaks\")\n",
        "\n",
        "class Dog(Animal):\n",
        "    def speak(self):\n",
        "        print(\"Dog barks\")\n",
        "\n",
        "class Cat(Animal):\n",
        "    def speak(self):\n",
        "        print(\"Cat meows\")\n",
        "\n",
        "# Polymorphic behavior\n",
        "def make_sound(animal):\n",
        "    animal.speak()\n",
        "\n",
        "make_sound(Dog())\n",
        "make_sound(Cat())\n"
      ],
      "metadata": {
        "colab": {
          "base_uri": "https://localhost:8080/"
        },
        "id": "C3PU7nLR8HLS",
        "outputId": "1248a4d5-01b8-4d7a-ab72-92e816ca29f5"
      },
      "execution_count": null,
      "outputs": [
        {
          "output_type": "stream",
          "name": "stdout",
          "text": [
            "Dog barks\n",
            "Cat meows\n"
          ]
        }
      ]
    },
    {
      "cell_type": "markdown",
      "source": [
        "## **24. What is method chaining in Python OOP?**"
      ],
      "metadata": {
        "id": "wwSS449U5cXW"
      }
    },
    {
      "cell_type": "markdown",
      "source": [
        "**Answer:**\n",
        "\n",
        "**Method chaining** is a technique where multiple method calls are **linked together in a single statement**, by having each method return `self`.\n",
        "\n",
        "🔹 **How it Works:**\n",
        "\n",
        "Each method performs some action and then returns the **same object** `(self)` so that the next method can be called on it.\n",
        "\n",
        "**Example:**"
      ],
      "metadata": {
        "id": "gTELa32y5cZ7"
      }
    },
    {
      "cell_type": "code",
      "source": [
        "class TextBuilder:\n",
        "    def __init__(self):\n",
        "        self.text = \"\"\n",
        "\n",
        "    def add_hello(self):\n",
        "        self.text += \"Hello \"\n",
        "        return self\n",
        "\n",
        "    def add_world(self):\n",
        "        self.text += \"World!\"\n",
        "        return self\n",
        "\n",
        "    def show(self):\n",
        "        print(self.text)\n",
        "        return self\n",
        "\n",
        "# Method chaining in action\n",
        "TextBuilder().add_hello().add_world().show()"
      ],
      "metadata": {
        "colab": {
          "base_uri": "https://localhost:8080/"
        },
        "id": "m9x5fd698oHP",
        "outputId": "15ac3c84-3af2-4225-9316-7b942891beb9"
      },
      "execution_count": null,
      "outputs": [
        {
          "output_type": "stream",
          "name": "stdout",
          "text": [
            "Hello World!\n"
          ]
        },
        {
          "output_type": "execute_result",
          "data": {
            "text/plain": [
              "<__main__.TextBuilder at 0x7f38044b6190>"
            ]
          },
          "metadata": {},
          "execution_count": 5
        }
      ]
    },
    {
      "cell_type": "markdown",
      "source": [
        "## **25. What is the purpose of the __ call __ method in Python?**"
      ],
      "metadata": {
        "id": "P-A6MNhi5cdY"
      }
    },
    {
      "cell_type": "markdown",
      "source": [
        "**Answer:**\n",
        "\n",
        "🔹 `__call__` **method in Python**\n",
        "\n",
        "The `__call__` method lets an **object behave like a function**—meaning you can \"call\" an instance **as if it were a function**.\n",
        "\n",
        "Purpose:\n",
        "\n",
        "To allow **instances of a class** to be invoked like functions by defining custom behavior when the object is called using parentheses ().\n",
        "\n",
        "**Example:**"
      ],
      "metadata": {
        "id": "16Aqc5my8rjI"
      }
    },
    {
      "cell_type": "code",
      "source": [
        "class Greeter:\n",
        "    def __init__(self, name):\n",
        "        self.name = name\n",
        "\n",
        "    def __call__(self):\n",
        "        print(f\"Hello, {self.name}!\")\n",
        "\n",
        "g = Greeter(\"Alice\")\n",
        "g()"
      ],
      "metadata": {
        "colab": {
          "base_uri": "https://localhost:8080/"
        },
        "id": "4sE3_xa49DVQ",
        "outputId": "3628b961-33a6-42c4-bfce-e2d70eaad3da"
      },
      "execution_count": null,
      "outputs": [
        {
          "output_type": "stream",
          "name": "stdout",
          "text": [
            "Hello, Alice!\n"
          ]
        }
      ]
    },
    {
      "cell_type": "markdown",
      "source": [
        "# **PRACTICAL QUESTIONS**"
      ],
      "metadata": {
        "id": "4j8x_rJ08rlw"
      }
    },
    {
      "cell_type": "markdown",
      "source": [
        "## **1. Create a parent class Animal with a method speak() that prints a generic message. Create a child class Dog that overrides the speak() method to print \"Bark!\".**"
      ],
      "metadata": {
        "id": "QeFhHqpn8rox"
      }
    },
    {
      "cell_type": "code",
      "source": [
        "class Animal:\n",
        "    def speak(self):\n",
        "        print(\"Animal speaks...\")\n",
        "\n",
        "class Dog(Animal):\n",
        "    def speak(self):\n",
        "        print(\"Bark!\")\n",
        "\n",
        "d = Dog()\n",
        "d.speak()\n"
      ],
      "metadata": {
        "colab": {
          "base_uri": "https://localhost:8080/"
        },
        "id": "NMpCYPSR-BXV",
        "outputId": "81b7fe7a-0e5a-4007-c489-7e3289dc832f"
      },
      "execution_count": null,
      "outputs": [
        {
          "output_type": "stream",
          "name": "stdout",
          "text": [
            "Bark!\n"
          ]
        }
      ]
    },
    {
      "cell_type": "markdown",
      "source": [
        "## **2. Write a program to create an abstract class Shape with a method area(). Derive classes Circle and Rectangle from it and implement the area() method in both.**"
      ],
      "metadata": {
        "id": "uFZ2MCh88rrQ"
      }
    },
    {
      "cell_type": "code",
      "source": [
        "from abc import ABC, abstractmethod\n",
        "\n",
        "class Shape(ABC):\n",
        "    @abstractmethod\n",
        "    def area(self):\n",
        "        pass\n",
        "\n",
        "class Circle(Shape):\n",
        "    def __init__(self, radius):\n",
        "        self.radius = radius\n",
        "\n",
        "    def area(self):\n",
        "        return 3.14 * self.radius * self.radius\n",
        "\n",
        "class Rectangle(Shape):\n",
        "    def __init__(self, width, height):\n",
        "        self.width = width\n",
        "        self.height = height\n",
        "\n",
        "    def area(self):\n",
        "        return self.width * self.height\n",
        "\n",
        "c = Circle(5)\n",
        "r = Rectangle(4, 6)\n",
        "print(c.area())\n",
        "print(r.area())"
      ],
      "metadata": {
        "colab": {
          "base_uri": "https://localhost:8080/"
        },
        "id": "VsEHFfyo-I6q",
        "outputId": "1ad50808-78f0-4132-fc22-417639b88749"
      },
      "execution_count": null,
      "outputs": [
        {
          "output_type": "stream",
          "name": "stdout",
          "text": [
            "78.5\n",
            "24\n"
          ]
        }
      ]
    },
    {
      "cell_type": "markdown",
      "source": [
        "## **3. Implement a multi-level inheritance scenario where a class Vehicle has an attribute type. Derive a class Car and further derive a class ElectricCar that adds a battery attribute.**\n"
      ],
      "metadata": {
        "id": "1xIz85K18rt1"
      }
    },
    {
      "cell_type": "code",
      "source": [
        "class Vehicle:\n",
        "    def __init__(self, type):\n",
        "        self.type = type\n",
        "\n",
        "class Car(Vehicle):\n",
        "    def __init__(self, type, brand):\n",
        "        super().__init__(type)\n",
        "        self.brand = brand\n",
        "\n",
        "class ElectricCar(Car):\n",
        "    def __init__(self, type, brand, battery):\n",
        "        super().__init__(type, brand)\n",
        "        self.battery = battery\n",
        "\n",
        "e_car = ElectricCar(\"EV\", \"Tesla\", \"100 kWh\")\n",
        "print(e_car.type, e_car.brand, e_car.battery)\n"
      ],
      "metadata": {
        "colab": {
          "base_uri": "https://localhost:8080/"
        },
        "id": "M8bPTe9Z-RB-",
        "outputId": "893e6e28-5f69-4304-9a95-ba89ef77130c"
      },
      "execution_count": null,
      "outputs": [
        {
          "output_type": "stream",
          "name": "stdout",
          "text": [
            "EV Tesla 100 kWh\n"
          ]
        }
      ]
    },
    {
      "cell_type": "markdown",
      "source": [
        "## **4. Demonstrate polymorphism by creating a base class Bird with a method fly(). Create two derived classes Sparrow and Penguin that override the fly() method.**\n"
      ],
      "metadata": {
        "id": "myzBIauj8rwl"
      }
    },
    {
      "cell_type": "code",
      "source": [
        "class Bird:\n",
        "    def fly(self):\n",
        "        print(\"Bird is flying\")\n",
        "\n",
        "class Sparrow(Bird):\n",
        "    def fly(self):\n",
        "        print(\"Sparrow flies high\")\n",
        "\n",
        "class Penguin(Bird):\n",
        "    def fly(self):\n",
        "        print(\"Penguins can't fly\")\n",
        "\n",
        "for bird in [Sparrow(), Penguin()]:\n",
        "    bird.fly()\n"
      ],
      "metadata": {
        "colab": {
          "base_uri": "https://localhost:8080/"
        },
        "id": "Kr-n4pc7-YRc",
        "outputId": "7903f2a5-1586-4b44-d56f-0c217734b5e9"
      },
      "execution_count": null,
      "outputs": [
        {
          "output_type": "stream",
          "name": "stdout",
          "text": [
            "Sparrow flies high\n",
            "Penguins can't fly\n"
          ]
        }
      ]
    },
    {
      "cell_type": "markdown",
      "source": [
        "## **5. Write a program to demonstrate encapsulation by creating a class BankAccount with private attributes balance and methods to deposit, withdraw, and check balance.**"
      ],
      "metadata": {
        "id": "FTY_zEYX8rzO"
      }
    },
    {
      "cell_type": "code",
      "source": [
        "class BankAccount:\n",
        "    def __init__(self):\n",
        "        self.__balance = 0\n",
        "\n",
        "    def deposit(self, amount):\n",
        "        self.__balance += amount\n",
        "\n",
        "    def withdraw(self, amount):\n",
        "        if amount <= self.__balance:\n",
        "            self.__balance -= amount\n",
        "        else:\n",
        "            print(\"Insufficient balance\")\n",
        "\n",
        "    def get_balance(self):\n",
        "        return self.__balance\n",
        "\n",
        "acc = BankAccount()\n",
        "acc.deposit(1000)\n",
        "acc.withdraw(500)\n",
        "print(acc.get_balance())"
      ],
      "metadata": {
        "colab": {
          "base_uri": "https://localhost:8080/"
        },
        "id": "6QFPd-FU-fek",
        "outputId": "a80c0116-e767-4371-fc1a-d4cf490f371e"
      },
      "execution_count": null,
      "outputs": [
        {
          "output_type": "stream",
          "name": "stdout",
          "text": [
            "500\n"
          ]
        }
      ]
    },
    {
      "cell_type": "markdown",
      "source": [
        "## **6. Demonstrate runtime polymorphism using a method play() in a base class Instrument. Derive classes Guitar and Piano that implement their own version of play().**"
      ],
      "metadata": {
        "id": "9x8AX_Dr-cEx"
      }
    },
    {
      "cell_type": "code",
      "source": [
        "class Instrument:\n",
        "    def play(self):\n",
        "        print(\"Instrument is playing\")\n",
        "\n",
        "class Guitar(Instrument):\n",
        "    def play(self):\n",
        "        print(\"Guitar is playing\")\n",
        "\n",
        "class Piano(Instrument):\n",
        "    def play(self):\n",
        "        print(\"Piano is playing\")\n",
        "\n",
        "for inst in [Guitar(), Piano()]:\n",
        "    inst.play()"
      ],
      "metadata": {
        "colab": {
          "base_uri": "https://localhost:8080/"
        },
        "id": "Co13NwzC-mqH",
        "outputId": "6721822c-9b99-4826-9db7-b340b580525a"
      },
      "execution_count": null,
      "outputs": [
        {
          "output_type": "stream",
          "name": "stdout",
          "text": [
            "Guitar is playing\n",
            "Piano is playing\n"
          ]
        }
      ]
    },
    {
      "cell_type": "markdown",
      "source": [
        "## **7. Create a class MathOperations with a class method add_numbers() to add two numbers and a static method subtract_numbers() to subtract two numbers.**\n"
      ],
      "metadata": {
        "id": "Dggt5b---cHO"
      }
    },
    {
      "cell_type": "code",
      "source": [
        "class MathOperations:\n",
        "    @classmethod\n",
        "    def add_numbers(cls, a, b):\n",
        "        return a + b\n",
        "\n",
        "    @staticmethod\n",
        "    def subtract_numbers(a, b):\n",
        "        return a - b\n",
        "\n",
        "print(MathOperations.add_numbers(10, 5))\n",
        "print(MathOperations.subtract_numbers(10, 5))"
      ],
      "metadata": {
        "colab": {
          "base_uri": "https://localhost:8080/"
        },
        "id": "g2uL2tc8-wLs",
        "outputId": "b3d4357c-ca85-4c88-d7fe-f900658f7aeb"
      },
      "execution_count": null,
      "outputs": [
        {
          "output_type": "stream",
          "name": "stdout",
          "text": [
            "15\n",
            "5\n"
          ]
        }
      ]
    },
    {
      "cell_type": "markdown",
      "source": [
        "## **8. Implement a class Person with a class method to count the total number of persons created.**"
      ],
      "metadata": {
        "id": "k1QaCdug-cKX"
      }
    },
    {
      "cell_type": "code",
      "source": [
        "class Person:\n",
        "    count = 0\n",
        "\n",
        "    def __init__(self):\n",
        "        Person.count += 1\n",
        "\n",
        "    @classmethod\n",
        "    def total_persons(cls):\n",
        "        return cls.count\n",
        "\n",
        "p1 = Person()\n",
        "p2 = Person()\n",
        "print(Person.total_persons())\n"
      ],
      "metadata": {
        "colab": {
          "base_uri": "https://localhost:8080/"
        },
        "id": "cTEwLN-_-60-",
        "outputId": "626c02c8-4762-453e-bbb6-bd0ca3ed28d4"
      },
      "execution_count": null,
      "outputs": [
        {
          "output_type": "stream",
          "name": "stdout",
          "text": [
            "2\n"
          ]
        }
      ]
    },
    {
      "cell_type": "markdown",
      "source": [
        "## **9. Write a class Fraction with attributes numerator and denominator. Override the str method to display the fraction as \"numerator/denominator\".**"
      ],
      "metadata": {
        "id": "65bCfLVs-cMd"
      }
    },
    {
      "cell_type": "code",
      "source": [
        "class Fraction:\n",
        "    def __init__(self, numerator, denominator):\n",
        "        self.numerator = numerator\n",
        "        self.denominator = denominator\n",
        "\n",
        "    def __str__(self):\n",
        "        return f\"{self.numerator}/{self.denominator}\"\n",
        "\n",
        "f = Fraction(3, 4)\n",
        "print(f)\n",
        "\n"
      ],
      "metadata": {
        "colab": {
          "base_uri": "https://localhost:8080/"
        },
        "id": "690nXyoH_EKF",
        "outputId": "247e8dde-b1c7-49b5-a5f0-7a5cf544a15c"
      },
      "execution_count": null,
      "outputs": [
        {
          "output_type": "stream",
          "name": "stdout",
          "text": [
            "3/4\n"
          ]
        }
      ]
    },
    {
      "cell_type": "markdown",
      "source": [
        "## **10. Demonstrate operator overloading by creating a class Vector and overriding the add method to add two Vctors.**"
      ],
      "metadata": {
        "id": "DmvSAQcQ-cPv"
      }
    },
    {
      "cell_type": "code",
      "source": [
        "class Vector:\n",
        "    def __init__(self, x, y):\n",
        "        self.x = x\n",
        "        self.y = y\n",
        "\n",
        "    def __add__(self, other):\n",
        "        return Vector(self.x + other.x, self.y + other.y)\n",
        "\n",
        "    def __str__(self):\n",
        "        return f\"({self.x}, {self.y})\"\n",
        "\n",
        "v1 = Vector(1, 2)\n",
        "v2 = Vector(3, 4)\n",
        "print(v1 + v2)\n"
      ],
      "metadata": {
        "colab": {
          "base_uri": "https://localhost:8080/"
        },
        "id": "QNH0uL6E_IZ1",
        "outputId": "a4af3c6d-38c6-4170-a513-7d379ac72309"
      },
      "execution_count": null,
      "outputs": [
        {
          "output_type": "stream",
          "name": "stdout",
          "text": [
            "(4, 6)\n"
          ]
        }
      ]
    },
    {
      "cell_type": "markdown",
      "source": [
        "## **11. Create a class Person with attributes name and age. Add a method greet() that prints \"Hello, my name is {name} and I am {age} years old.\"**\n",
        "\n"
      ],
      "metadata": {
        "id": "3r5PwmiT-cXE"
      }
    },
    {
      "cell_type": "code",
      "source": [
        "class Person:\n",
        "    def __init__(self, name, age):\n",
        "        self.name = name\n",
        "        self.age = age\n",
        "\n",
        "    def greet(self):\n",
        "        print(f\"Hello, my name is {self.name} and I am {self.age} years old.\")\n",
        "\n",
        "p = Person(\"Chavi\", 26)\n",
        "p.greet()\n"
      ],
      "metadata": {
        "colab": {
          "base_uri": "https://localhost:8080/"
        },
        "id": "jYfUPFXh_ROv",
        "outputId": "72e8b8b0-bbd5-4067-8ba3-676f01839468"
      },
      "execution_count": null,
      "outputs": [
        {
          "output_type": "stream",
          "name": "stdout",
          "text": [
            "Hello, my name is Chavi and I am 26 years old.\n"
          ]
        }
      ]
    },
    {
      "cell_type": "markdown",
      "source": [
        "## **12. Implement a class Student with attributes name and grades. Create a method average_grade() to compute the average of the grades.**\n"
      ],
      "metadata": {
        "id": "7cUjZ3yb_OCa"
      }
    },
    {
      "cell_type": "code",
      "source": [
        "\n",
        "class Student:\n",
        "    def __init__(self, name, grades):\n",
        "        self.name = name\n",
        "        self.grades = grades\n",
        "\n",
        "    def average_grade(self):\n",
        "        return sum(self.grades) / len(self.grades)\n",
        "\n",
        "s = Student(\"Bob\", [80, 90, 70])\n",
        "print(s.average_grade())"
      ],
      "metadata": {
        "colab": {
          "base_uri": "https://localhost:8080/"
        },
        "id": "oSd_53eC_cM_",
        "outputId": "b4e53310-a4d9-48a7-f1b2-65e5199d916c"
      },
      "execution_count": null,
      "outputs": [
        {
          "output_type": "stream",
          "name": "stdout",
          "text": [
            "80.0\n"
          ]
        }
      ]
    },
    {
      "cell_type": "markdown",
      "source": [
        "## **13. Create a class Rectangle with methods set_dimensions() to set the dimensions and area() to calculate the area.**"
      ],
      "metadata": {
        "id": "npeES0LY_OE8"
      }
    },
    {
      "cell_type": "code",
      "source": [
        "\n",
        "class Rectangle:\n",
        "    def set_dimensions(self, width, height):\n",
        "        self.width = width\n",
        "        self.height = height\n",
        "\n",
        "    def area(self):\n",
        "        return self.width * self.height\n",
        "\n",
        "r = Rectangle()\n",
        "r.set_dimensions(5, 3)\n",
        "print(r.area())"
      ],
      "metadata": {
        "colab": {
          "base_uri": "https://localhost:8080/"
        },
        "id": "MwlUqhjP_i5l",
        "outputId": "a605b4d9-14cf-4baf-f357-46534f2cc2b3"
      },
      "execution_count": null,
      "outputs": [
        {
          "output_type": "stream",
          "name": "stdout",
          "text": [
            "15\n"
          ]
        }
      ]
    },
    {
      "cell_type": "markdown",
      "source": [
        "## **14. Create a class Employee with a method calculate_salary() that computes the salary based on hours worked and hourly rate. Create a derived class Manager that adds a bonus to the salary.**"
      ],
      "metadata": {
        "id": "0nga2J1e_OIR"
      }
    },
    {
      "cell_type": "code",
      "source": [
        "\n",
        "class Employee:\n",
        "    def calculate_salary(self, hours, rate):\n",
        "        return hours * rate\n",
        "\n",
        "class Manager(Employee):\n",
        "    def calculate_salary(self, hours, rate, bonus):\n",
        "        base = super().calculate_salary(hours, rate)\n",
        "        return base + bonus\n",
        "\n",
        "m = Manager()\n",
        "print(m.calculate_salary(40, 50, 1000))\n",
        "\n"
      ],
      "metadata": {
        "colab": {
          "base_uri": "https://localhost:8080/"
        },
        "id": "z56jfl1k_p6l",
        "outputId": "982fe079-a8fb-4fa8-9985-e78291e18bc7"
      },
      "execution_count": null,
      "outputs": [
        {
          "output_type": "stream",
          "name": "stdout",
          "text": [
            "3000\n"
          ]
        }
      ]
    },
    {
      "cell_type": "markdown",
      "source": [
        "## **15. Create a class Product with attributes name, price, and quantity. Implement a method total_price() that calculates the total price of the product.**"
      ],
      "metadata": {
        "id": "r4K8P3BX_qaa"
      }
    },
    {
      "cell_type": "code",
      "source": [
        "class Product:\n",
        "    def __init__(self, name, price, quantity):\n",
        "        self.name = name\n",
        "        self.price = price\n",
        "        self.quantity = quantity\n",
        "\n",
        "    def total_price(self):\n",
        "        return self.price * self.quantity\n",
        "\n",
        "p = Product(\"Pen\", 10, 5)\n",
        "print(p.total_price())\n",
        "\n"
      ],
      "metadata": {
        "colab": {
          "base_uri": "https://localhost:8080/"
        },
        "id": "HD0j_qIv_1tm",
        "outputId": "72f4fcc0-4c82-4bf4-dc7a-774af6107f18"
      },
      "execution_count": null,
      "outputs": [
        {
          "output_type": "stream",
          "name": "stdout",
          "text": [
            "50\n"
          ]
        }
      ]
    },
    {
      "cell_type": "markdown",
      "source": [
        "## **16. Create a class Animal with an abstract method sound(). Create two derived classes Cow and Sheep that implement the sound() method.**"
      ],
      "metadata": {
        "id": "--GofpLM_qiP"
      }
    },
    {
      "cell_type": "code",
      "source": [
        "\n",
        "from abc import ABC, abstractmethod\n",
        "\n",
        "class Animal(ABC):\n",
        "    @abstractmethod\n",
        "    def sound(self):\n",
        "        pass\n",
        "\n",
        "class Cow(Animal):\n",
        "    def sound(self):\n",
        "        print(\"Moo\")\n",
        "\n",
        "class Sheep(Animal):\n",
        "    def sound(self):\n",
        "        print(\"Baa\")\n",
        "\n",
        "Cow().sound()\n",
        "Sheep().sound()\n"
      ],
      "metadata": {
        "colab": {
          "base_uri": "https://localhost:8080/"
        },
        "id": "rBROLE0v_8kW",
        "outputId": "43cafe7f-b8a9-4373-963d-ad2865e7517a"
      },
      "execution_count": null,
      "outputs": [
        {
          "output_type": "stream",
          "name": "stdout",
          "text": [
            "Moo\n",
            "Baa\n"
          ]
        }
      ]
    },
    {
      "cell_type": "markdown",
      "source": [
        "## **17. Create a class Book with attributes title, author, and year_published. Add a method get_book_info() that returns a formatted string with the book's details.**"
      ],
      "metadata": {
        "id": "H7mSOjbL_ql4"
      }
    },
    {
      "cell_type": "code",
      "source": [
        "class Book:\n",
        "    def __init__(self, title, author, year_published):\n",
        "        self.title = title\n",
        "        self.author = author\n",
        "        self.year_published = year_published\n",
        "\n",
        "    def get_book_info(self):\n",
        "        return f\"{self.title} by {self.author}, published in {self.year_published}\"\n",
        "\n",
        "b = Book(\"1984\", \"George Orwell\", 1949)\n",
        "print(b.get_book_info())"
      ],
      "metadata": {
        "colab": {
          "base_uri": "https://localhost:8080/"
        },
        "id": "nOOUstLcAEDK",
        "outputId": "444d9e29-40c4-4cd9-e970-144d6e352631"
      },
      "execution_count": null,
      "outputs": [
        {
          "output_type": "stream",
          "name": "stdout",
          "text": [
            "1984 by George Orwell, published in 1949\n"
          ]
        }
      ]
    },
    {
      "cell_type": "markdown",
      "source": [
        " ## **18. Create a class House with attributes address and price. Create a derived class Mansion that adds an attribute number_of_rooms.**"
      ],
      "metadata": {
        "id": "Xtm_rl6Z_qot"
      }
    },
    {
      "cell_type": "code",
      "source": [
        "class House:\n",
        "    def __init__(self, address, price):\n",
        "        self.address = address\n",
        "        self.price = price\n",
        "\n",
        "class Mansion(House):\n",
        "    def __init__(self, address, price, number_of_rooms):\n",
        "        super().__init__(address, price)\n",
        "        self.number_of_rooms = number_of_rooms\n",
        "\n",
        "m = Mansion(\"Sector34, Noida\", 7000000, 5)\n",
        "print(m.address, m.price, m.number_of_rooms)\n",
        "\n"
      ],
      "metadata": {
        "colab": {
          "base_uri": "https://localhost:8080/"
        },
        "id": "B1CnP5IxAMMn",
        "outputId": "4b16a3e8-c219-49a7-b358-055297bee47b"
      },
      "execution_count": null,
      "outputs": [
        {
          "output_type": "stream",
          "name": "stdout",
          "text": [
            "Sector34, Noida 7000000 5\n"
          ]
        }
      ]
    },
    {
      "cell_type": "code",
      "source": [],
      "metadata": {
        "id": "12oENxS2AMuM"
      },
      "execution_count": null,
      "outputs": []
    }
  ]
}